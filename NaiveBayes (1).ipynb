{
 "cells": [
  {
   "cell_type": "code",
   "execution_count": 42,
   "id": "342c2588-6a9e-4d76-81da-98758dfd6feb",
   "metadata": {},
   "outputs": [],
   "source": [
    "import pandas as pd\n",
    "import numpy as np\n",
    "import matplotlib.pyplot as plt\n",
    "from sklearn.feature_extraction.text import TfidfVectorizer\n",
    "from sklearn.naive_bayes import MultinomialNB\n",
    "from sklearn.model_selection import GridSearchCV\n",
    "import matplotlib.pyplot as plt\n",
    "from sklearn.linear_model import LogisticRegression\n",
    "from sklearn.metrics import f1_score\n",
    "from sklearn.model_selection import cross_validate"
   ]
  },
  {
   "cell_type": "code",
   "execution_count": 43,
   "id": "502ecaa3-27e2-499c-821c-d3446113b8b0",
   "metadata": {},
   "outputs": [
    {
     "name": "stderr",
     "output_type": "stream",
     "text": [
      "[nltk_data] Downloading package punkt to /home/zhengy9/nltk_data...\n",
      "[nltk_data]   Package punkt is already up-to-date!\n"
     ]
    },
    {
     "data": {
      "text/plain": [
       "True"
      ]
     },
     "execution_count": 43,
     "metadata": {},
     "output_type": "execute_result"
    }
   ],
   "source": [
    "import nltk\n",
    "import re\n",
    "from nltk.tokenize import word_tokenize\n",
    "from nltk.corpus import stopwords\n",
    "from nltk.stem import WordNetLemmatizer\n",
    "from sklearn.feature_extraction.text import TfidfVectorizer\n",
    "nltk.download('punkt')"
   ]
  },
  {
   "cell_type": "code",
   "execution_count": 44,
   "id": "8efc00dd-2f32-4fe5-a94b-91bfc7449946",
   "metadata": {},
   "outputs": [],
   "source": [
    "def clean_text(text):\n",
    "    # convert text to lowercase\n",
    "    text = text.lower()\n",
    "    # remove special characters and digits\n",
    "    text = re.sub(r'[^a-zA-Z\\s]', '', text)\n",
    "    # tokenize text into individual words\n",
    "    words = word_tokenize(text)\n",
    "    # remove stop words\n",
    "    words = [w for w in words if w not in stopwords.words('english')]\n",
    "    # lemmatize words\n",
    "    lem = WordNetLemmatizer()\n",
    "    words = [lem.lemmatize(w) for w in words]\n",
    "    # recombine words into a single string\n",
    "    text = ' '.join(words)\n",
    "    return text"
   ]
  },
  {
   "cell_type": "code",
   "execution_count": 45,
   "id": "9b8db8fb-386e-44e1-bc3d-0f8780bc665d",
   "metadata": {},
   "outputs": [],
   "source": [
    "sample_amount = 5000"
   ]
  },
  {
   "cell_type": "code",
   "execution_count": 46,
   "id": "19304809-154c-4139-822a-cd54315f7997",
   "metadata": {},
   "outputs": [
    {
     "data": {
      "text/html": [
       "<div>\n",
       "<style scoped>\n",
       "    .dataframe tbody tr th:only-of-type {\n",
       "        vertical-align: middle;\n",
       "    }\n",
       "\n",
       "    .dataframe tbody tr th {\n",
       "        vertical-align: top;\n",
       "    }\n",
       "\n",
       "    .dataframe thead th {\n",
       "        text-align: right;\n",
       "    }\n",
       "</style>\n",
       "<table border=\"1\" class=\"dataframe\">\n",
       "  <thead>\n",
       "    <tr style=\"text-align: right;\">\n",
       "      <th></th>\n",
       "      <th>qid</th>\n",
       "      <th>question_text</th>\n",
       "      <th>target</th>\n",
       "    </tr>\n",
       "  </thead>\n",
       "  <tbody>\n",
       "    <tr>\n",
       "      <th>0</th>\n",
       "      <td>00002165364db923c7e6</td>\n",
       "      <td>How did Quebec nationalists see their province...</td>\n",
       "      <td>0</td>\n",
       "    </tr>\n",
       "    <tr>\n",
       "      <th>1</th>\n",
       "      <td>000032939017120e6e44</td>\n",
       "      <td>Do you have an adopted dog, how would you enco...</td>\n",
       "      <td>0</td>\n",
       "    </tr>\n",
       "    <tr>\n",
       "      <th>2</th>\n",
       "      <td>0000412ca6e4628ce2cf</td>\n",
       "      <td>Why does velocity affect time? Does velocity a...</td>\n",
       "      <td>0</td>\n",
       "    </tr>\n",
       "  </tbody>\n",
       "</table>\n",
       "</div>"
      ],
      "text/plain": [
       "                    qid                                      question_text   \n",
       "0  00002165364db923c7e6  How did Quebec nationalists see their province...  \\\n",
       "1  000032939017120e6e44  Do you have an adopted dog, how would you enco...   \n",
       "2  0000412ca6e4628ce2cf  Why does velocity affect time? Does velocity a...   \n",
       "\n",
       "   target  \n",
       "0       0  \n",
       "1       0  \n",
       "2       0  "
      ]
     },
     "execution_count": 46,
     "metadata": {},
     "output_type": "execute_result"
    }
   ],
   "source": [
    "train = pd.read_csv('/home/zhengy9/MachineLearning/Project/train.csv')\n",
    "train.head(3)"
   ]
  },
  {
   "cell_type": "code",
   "execution_count": 47,
   "id": "bd2bff58-fe3e-45b8-aa41-e9cbdf986b71",
   "metadata": {},
   "outputs": [
    {
     "data": {
      "text/html": [
       "<div>\n",
       "<style scoped>\n",
       "    .dataframe tbody tr th:only-of-type {\n",
       "        vertical-align: middle;\n",
       "    }\n",
       "\n",
       "    .dataframe tbody tr th {\n",
       "        vertical-align: top;\n",
       "    }\n",
       "\n",
       "    .dataframe thead th {\n",
       "        text-align: right;\n",
       "    }\n",
       "</style>\n",
       "<table border=\"1\" class=\"dataframe\">\n",
       "  <thead>\n",
       "    <tr style=\"text-align: right;\">\n",
       "      <th></th>\n",
       "      <th>qid</th>\n",
       "      <th>question_text</th>\n",
       "    </tr>\n",
       "  </thead>\n",
       "  <tbody>\n",
       "    <tr>\n",
       "      <th>0</th>\n",
       "      <td>0000163e3ea7c7a74cd7</td>\n",
       "      <td>Why do so many women become so rude and arroga...</td>\n",
       "    </tr>\n",
       "    <tr>\n",
       "      <th>1</th>\n",
       "      <td>00002bd4fb5d505b9161</td>\n",
       "      <td>When should I apply for RV college of engineer...</td>\n",
       "    </tr>\n",
       "    <tr>\n",
       "      <th>2</th>\n",
       "      <td>00007756b4a147d2b0b3</td>\n",
       "      <td>What is it really like to be a nurse practitio...</td>\n",
       "    </tr>\n",
       "  </tbody>\n",
       "</table>\n",
       "</div>"
      ],
      "text/plain": [
       "                    qid                                      question_text\n",
       "0  0000163e3ea7c7a74cd7  Why do so many women become so rude and arroga...\n",
       "1  00002bd4fb5d505b9161  When should I apply for RV college of engineer...\n",
       "2  00007756b4a147d2b0b3  What is it really like to be a nurse practitio..."
      ]
     },
     "execution_count": 47,
     "metadata": {},
     "output_type": "execute_result"
    }
   ],
   "source": [
    "test = pd.read_csv('/home/zhengy9/MachineLearning/Project/test.csv')\n",
    "test.head(3)"
   ]
  },
  {
   "cell_type": "code",
   "execution_count": null,
   "id": "1c62a0bf-bb03-40d6-935d-b7e3b3ef4bf8",
   "metadata": {},
   "outputs": [],
   "source": []
  },
  {
   "cell_type": "code",
   "execution_count": null,
   "id": "ca3e8d37-0ec7-4be7-8c82-9b58c2d2d22e",
   "metadata": {},
   "outputs": [],
   "source": []
  },
  {
   "cell_type": "code",
   "execution_count": null,
   "id": "722363ff-2940-4308-8131-9d58ab759ae4",
   "metadata": {},
   "outputs": [],
   "source": []
  },
  {
   "cell_type": "code",
   "execution_count": 48,
   "id": "3005ddb3-362a-4948-990d-2976c7fc5530",
   "metadata": {},
   "outputs": [
    {
     "data": {
      "text/html": [
       "<div>\n",
       "<style scoped>\n",
       "    .dataframe tbody tr th:only-of-type {\n",
       "        vertical-align: middle;\n",
       "    }\n",
       "\n",
       "    .dataframe tbody tr th {\n",
       "        vertical-align: top;\n",
       "    }\n",
       "\n",
       "    .dataframe thead th {\n",
       "        text-align: right;\n",
       "    }\n",
       "</style>\n",
       "<table border=\"1\" class=\"dataframe\">\n",
       "  <thead>\n",
       "    <tr style=\"text-align: right;\">\n",
       "      <th></th>\n",
       "      <th>question_text</th>\n",
       "      <th>target</th>\n",
       "    </tr>\n",
       "  </thead>\n",
       "  <tbody>\n",
       "    <tr>\n",
       "      <th>443046</th>\n",
       "      <td>what is the most effective classroom managemen...</td>\n",
       "      <td>0</td>\n",
       "    </tr>\n",
       "    <tr>\n",
       "      <th>947549</th>\n",
       "      <td>can i study abroad after 10th class from bangl...</td>\n",
       "      <td>0</td>\n",
       "    </tr>\n",
       "    <tr>\n",
       "      <th>523769</th>\n",
       "      <td>how can i make friends as a college junior?</td>\n",
       "      <td>0</td>\n",
       "    </tr>\n",
       "  </tbody>\n",
       "</table>\n",
       "</div>"
      ],
      "text/plain": [
       "                                            question_text  target\n",
       "443046  what is the most effective classroom managemen...       0\n",
       "947549  can i study abroad after 10th class from bangl...       0\n",
       "523769        how can i make friends as a college junior?       0"
      ]
     },
     "execution_count": 48,
     "metadata": {},
     "output_type": "execute_result"
    }
   ],
   "source": [
    "sample = train.sample(n=2000, random_state=42)\n",
    "sample = sample[['question_text', 'target']].dropna()\n",
    "sample['question_text'] = sample['question_text'].apply(lambda x: x.lower().strip())\n",
    "\n",
    "cleaned = [clean_text(text) for text in sample['question_text']]\n",
    "# select features and target\n",
    "\n",
    "sample.head(3)"
   ]
  },
  {
   "cell_type": "code",
   "execution_count": 49,
   "id": "abf21340-f985-42f5-af9e-8d263d896154",
   "metadata": {},
   "outputs": [],
   "source": [
    "X = cleaned\n",
    "y = sample.target\n",
    "y = y.astype('category')"
   ]
  },
  {
   "cell_type": "code",
   "execution_count": 50,
   "id": "aa357b7e-f492-4727-a4d3-a233d717e28a",
   "metadata": {},
   "outputs": [],
   "source": [
    "# define parameter grid for grid search cross-validation\n",
    "grid = {'alpha':np.linspace(0,500,501)}\n",
    "vectorizer = TfidfVectorizer(analyzer='word', stop_words='english')\n",
    "tfidf = vectorizer.fit_transform(X)\n",
    "# no target y. Latent Semantic Analysis is unsupervised.\n",
    "vocabulary = pd.Series(vectorizer.get_feature_names_out())"
   ]
  },
  {
   "cell_type": "code",
   "execution_count": 51,
   "id": "4d6cf9d9-30f1-45e7-951b-f33a8c5feeaa",
   "metadata": {},
   "outputs": [
    {
     "name": "stderr",
     "output_type": "stream",
     "text": [
      "/opt/anaconda3/lib/python3.9/site-packages/sklearn/naive_bayes.py:629: FutureWarning: The default value for `force_alpha` will change to `True` in 1.4. To suppress this warning, manually set the value of `force_alpha`.\n",
      "  warnings.warn(\n",
      "/opt/anaconda3/lib/python3.9/site-packages/sklearn/naive_bayes.py:635: UserWarning: alpha too small will result in numeric errors, setting alpha = 1.0e-10. Use `force_alpha=True` to keep alpha unchanged.\n",
      "  warnings.warn(\n",
      "/opt/anaconda3/lib/python3.9/site-packages/sklearn/naive_bayes.py:629: FutureWarning: The default value for `force_alpha` will change to `True` in 1.4. To suppress this warning, manually set the value of `force_alpha`.\n",
      "  warnings.warn(\n",
      "/opt/anaconda3/lib/python3.9/site-packages/sklearn/naive_bayes.py:635: UserWarning: alpha too small will result in numeric errors, setting alpha = 1.0e-10. Use `force_alpha=True` to keep alpha unchanged.\n",
      "  warnings.warn(\n",
      "/opt/anaconda3/lib/python3.9/site-packages/sklearn/naive_bayes.py:629: FutureWarning: The default value for `force_alpha` will change to `True` in 1.4. To suppress this warning, manually set the value of `force_alpha`.\n",
      "  warnings.warn(\n",
      "/opt/anaconda3/lib/python3.9/site-packages/sklearn/naive_bayes.py:629: FutureWarning: The default value for `force_alpha` will change to `True` in 1.4. To suppress this warning, manually set the value of `force_alpha`.\n",
      "  warnings.warn(\n",
      "/opt/anaconda3/lib/python3.9/site-packages/sklearn/naive_bayes.py:635: UserWarning: alpha too small will result in numeric errors, setting alpha = 1.0e-10. Use `force_alpha=True` to keep alpha unchanged.\n",
      "  warnings.warn(\n",
      "/opt/anaconda3/lib/python3.9/site-packages/sklearn/naive_bayes.py:635: UserWarning: alpha too small will result in numeric errors, setting alpha = 1.0e-10. Use `force_alpha=True` to keep alpha unchanged.\n",
      "  warnings.warn(\n",
      "/opt/anaconda3/lib/python3.9/site-packages/sklearn/naive_bayes.py:629: FutureWarning: The default value for `force_alpha` will change to `True` in 1.4. To suppress this warning, manually set the value of `force_alpha`.\n",
      "  warnings.warn(\n",
      "/opt/anaconda3/lib/python3.9/site-packages/sklearn/naive_bayes.py:635: UserWarning: alpha too small will result in numeric errors, setting alpha = 1.0e-10. Use `force_alpha=True` to keep alpha unchanged.\n",
      "  warnings.warn(\n"
     ]
    },
    {
     "data": {
      "text/html": [
       "<style>#sk-container-id-2 {color: black;background-color: white;}#sk-container-id-2 pre{padding: 0;}#sk-container-id-2 div.sk-toggleable {background-color: white;}#sk-container-id-2 label.sk-toggleable__label {cursor: pointer;display: block;width: 100%;margin-bottom: 0;padding: 0.3em;box-sizing: border-box;text-align: center;}#sk-container-id-2 label.sk-toggleable__label-arrow:before {content: \"▸\";float: left;margin-right: 0.25em;color: #696969;}#sk-container-id-2 label.sk-toggleable__label-arrow:hover:before {color: black;}#sk-container-id-2 div.sk-estimator:hover label.sk-toggleable__label-arrow:before {color: black;}#sk-container-id-2 div.sk-toggleable__content {max-height: 0;max-width: 0;overflow: hidden;text-align: left;background-color: #f0f8ff;}#sk-container-id-2 div.sk-toggleable__content pre {margin: 0.2em;color: black;border-radius: 0.25em;background-color: #f0f8ff;}#sk-container-id-2 input.sk-toggleable__control:checked~div.sk-toggleable__content {max-height: 200px;max-width: 100%;overflow: auto;}#sk-container-id-2 input.sk-toggleable__control:checked~label.sk-toggleable__label-arrow:before {content: \"▾\";}#sk-container-id-2 div.sk-estimator input.sk-toggleable__control:checked~label.sk-toggleable__label {background-color: #d4ebff;}#sk-container-id-2 div.sk-label input.sk-toggleable__control:checked~label.sk-toggleable__label {background-color: #d4ebff;}#sk-container-id-2 input.sk-hidden--visually {border: 0;clip: rect(1px 1px 1px 1px);clip: rect(1px, 1px, 1px, 1px);height: 1px;margin: -1px;overflow: hidden;padding: 0;position: absolute;width: 1px;}#sk-container-id-2 div.sk-estimator {font-family: monospace;background-color: #f0f8ff;border: 1px dotted black;border-radius: 0.25em;box-sizing: border-box;margin-bottom: 0.5em;}#sk-container-id-2 div.sk-estimator:hover {background-color: #d4ebff;}#sk-container-id-2 div.sk-parallel-item::after {content: \"\";width: 100%;border-bottom: 1px solid gray;flex-grow: 1;}#sk-container-id-2 div.sk-label:hover label.sk-toggleable__label {background-color: #d4ebff;}#sk-container-id-2 div.sk-serial::before {content: \"\";position: absolute;border-left: 1px solid gray;box-sizing: border-box;top: 0;bottom: 0;left: 50%;z-index: 0;}#sk-container-id-2 div.sk-serial {display: flex;flex-direction: column;align-items: center;background-color: white;padding-right: 0.2em;padding-left: 0.2em;position: relative;}#sk-container-id-2 div.sk-item {position: relative;z-index: 1;}#sk-container-id-2 div.sk-parallel {display: flex;align-items: stretch;justify-content: center;background-color: white;position: relative;}#sk-container-id-2 div.sk-item::before, #sk-container-id-2 div.sk-parallel-item::before {content: \"\";position: absolute;border-left: 1px solid gray;box-sizing: border-box;top: 0;bottom: 0;left: 50%;z-index: -1;}#sk-container-id-2 div.sk-parallel-item {display: flex;flex-direction: column;z-index: 1;position: relative;background-color: white;}#sk-container-id-2 div.sk-parallel-item:first-child::after {align-self: flex-end;width: 50%;}#sk-container-id-2 div.sk-parallel-item:last-child::after {align-self: flex-start;width: 50%;}#sk-container-id-2 div.sk-parallel-item:only-child::after {width: 0;}#sk-container-id-2 div.sk-dashed-wrapped {border: 1px dashed gray;margin: 0 0.4em 0.5em 0.4em;box-sizing: border-box;padding-bottom: 0.4em;background-color: white;}#sk-container-id-2 div.sk-label label {font-family: monospace;font-weight: bold;display: inline-block;line-height: 1.2em;}#sk-container-id-2 div.sk-label-container {text-align: center;}#sk-container-id-2 div.sk-container {/* jupyter's `normalize.less` sets `[hidden] { display: none; }` but bootstrap.min.css set `[hidden] { display: none !important; }` so we also need the `!important` here to be able to override the default hidden behavior on the sphinx rendered scikit-learn.org. See: https://github.com/scikit-learn/scikit-learn/issues/21755 */display: inline-block !important;position: relative;}#sk-container-id-2 div.sk-text-repr-fallback {display: none;}</style><div id=\"sk-container-id-2\" class=\"sk-top-container\"><div class=\"sk-text-repr-fallback\"><pre>GridSearchCV(estimator=MultinomialNB(), n_jobs=-1,\n",
       "             param_grid={&#x27;alpha&#x27;: array([0.  , 0.01, 0.02, 0.03, 0.04, 0.05, 0.06, 0.07, 0.08, 0.09, 0.1 ,\n",
       "       0.11, 0.12, 0.13, 0.14, 0.15, 0.16, 0.17, 0.18, 0.19, 0.2 , 0.21,\n",
       "       0.22, 0.23, 0.24, 0.25, 0.26, 0.27, 0.28, 0.29, 0.3 , 0.31, 0.32,\n",
       "       0.33, 0.34, 0.35, 0.36, 0.37, 0.38, 0.39, 0.4 , 0.41, 0.42, 0.43,\n",
       "       0.44, 0.45, 0.46, 0.47, 0.48, 0.49, 0.5 , 0.51, 0.52, 0.53, 0.54,\n",
       "       0.55, 0.56, 0.57, 0.58, 0.59, 0.6 , 0.61, 0.62, 0.63, 0.64, 0.65,\n",
       "       0.66, 0.67, 0.68, 0.69, 0.7 , 0.71, 0.72, 0.73, 0.74, 0.75, 0.76,\n",
       "       0.77, 0.78, 0.79, 0.8 , 0.81, 0.82, 0.83, 0.84, 0.85, 0.86, 0.87,\n",
       "       0.88, 0.89, 0.9 , 0.91, 0.92, 0.93, 0.94, 0.95, 0.96, 0.97, 0.98,\n",
       "       0.99, 1.  ])},\n",
       "             return_train_score=True)</pre><b>In a Jupyter environment, please rerun this cell to show the HTML representation or trust the notebook. <br />On GitHub, the HTML representation is unable to render, please try loading this page with nbviewer.org.</b></div><div class=\"sk-container\" hidden><div class=\"sk-item sk-dashed-wrapped\"><div class=\"sk-label-container\"><div class=\"sk-label sk-toggleable\"><input class=\"sk-toggleable__control sk-hidden--visually\" id=\"sk-estimator-id-4\" type=\"checkbox\" ><label for=\"sk-estimator-id-4\" class=\"sk-toggleable__label sk-toggleable__label-arrow\">GridSearchCV</label><div class=\"sk-toggleable__content\"><pre>GridSearchCV(estimator=MultinomialNB(), n_jobs=-1,\n",
       "             param_grid={&#x27;alpha&#x27;: array([0.  , 0.01, 0.02, 0.03, 0.04, 0.05, 0.06, 0.07, 0.08, 0.09, 0.1 ,\n",
       "       0.11, 0.12, 0.13, 0.14, 0.15, 0.16, 0.17, 0.18, 0.19, 0.2 , 0.21,\n",
       "       0.22, 0.23, 0.24, 0.25, 0.26, 0.27, 0.28, 0.29, 0.3 , 0.31, 0.32,\n",
       "       0.33, 0.34, 0.35, 0.36, 0.37, 0.38, 0.39, 0.4 , 0.41, 0.42, 0.43,\n",
       "       0.44, 0.45, 0.46, 0.47, 0.48, 0.49, 0.5 , 0.51, 0.52, 0.53, 0.54,\n",
       "       0.55, 0.56, 0.57, 0.58, 0.59, 0.6 , 0.61, 0.62, 0.63, 0.64, 0.65,\n",
       "       0.66, 0.67, 0.68, 0.69, 0.7 , 0.71, 0.72, 0.73, 0.74, 0.75, 0.76,\n",
       "       0.77, 0.78, 0.79, 0.8 , 0.81, 0.82, 0.83, 0.84, 0.85, 0.86, 0.87,\n",
       "       0.88, 0.89, 0.9 , 0.91, 0.92, 0.93, 0.94, 0.95, 0.96, 0.97, 0.98,\n",
       "       0.99, 1.  ])},\n",
       "             return_train_score=True)</pre></div></div></div><div class=\"sk-parallel\"><div class=\"sk-parallel-item\"><div class=\"sk-item\"><div class=\"sk-label-container\"><div class=\"sk-label sk-toggleable\"><input class=\"sk-toggleable__control sk-hidden--visually\" id=\"sk-estimator-id-5\" type=\"checkbox\" ><label for=\"sk-estimator-id-5\" class=\"sk-toggleable__label sk-toggleable__label-arrow\">estimator: MultinomialNB</label><div class=\"sk-toggleable__content\"><pre>MultinomialNB()</pre></div></div></div><div class=\"sk-serial\"><div class=\"sk-item\"><div class=\"sk-estimator sk-toggleable\"><input class=\"sk-toggleable__control sk-hidden--visually\" id=\"sk-estimator-id-6\" type=\"checkbox\" ><label for=\"sk-estimator-id-6\" class=\"sk-toggleable__label sk-toggleable__label-arrow\">MultinomialNB</label><div class=\"sk-toggleable__content\"><pre>MultinomialNB()</pre></div></div></div></div></div></div></div></div></div></div>"
      ],
      "text/plain": [
       "GridSearchCV(estimator=MultinomialNB(), n_jobs=-1,\n",
       "             param_grid={'alpha': array([0.  , 0.01, 0.02, 0.03, 0.04, 0.05, 0.06, 0.07, 0.08, 0.09, 0.1 ,\n",
       "       0.11, 0.12, 0.13, 0.14, 0.15, 0.16, 0.17, 0.18, 0.19, 0.2 , 0.21,\n",
       "       0.22, 0.23, 0.24, 0.25, 0.26, 0.27, 0.28, 0.29, 0.3 , 0.31, 0.32,\n",
       "       0.33, 0.34, 0.35, 0.36, 0.37, 0.38, 0.39, 0.4 , 0.41, 0.42, 0.43,\n",
       "       0.44, 0.45, 0.46, 0.47, 0.48, 0.49, 0.5 , 0.51, 0.52, 0.53, 0.54,\n",
       "       0.55, 0.56, 0.57, 0.58, 0.59, 0.6 , 0.61, 0.62, 0.63, 0.64, 0.65,\n",
       "       0.66, 0.67, 0.68, 0.69, 0.7 , 0.71, 0.72, 0.73, 0.74, 0.75, 0.76,\n",
       "       0.77, 0.78, 0.79, 0.8 , 0.81, 0.82, 0.83, 0.84, 0.85, 0.86, 0.87,\n",
       "       0.88, 0.89, 0.9 , 0.91, 0.92, 0.93, 0.94, 0.95, 0.96, 0.97, 0.98,\n",
       "       0.99, 1.  ])},\n",
       "             return_train_score=True)"
      ]
     },
     "execution_count": 51,
     "metadata": {},
     "output_type": "execute_result"
    }
   ],
   "source": [
    "grid = {'alpha':np.linspace(0,1,101)}\n",
    "NBayes = MultinomialNB()\n",
    "NBayesCV = GridSearchCV(NBayes,\n",
    "                        param_grid=grid,\n",
    "                        return_train_score=True,\n",
    "                        n_jobs=-1)\n",
    "NBayesCV.fit(tfidf,y)"
   ]
  },
  {
   "cell_type": "code",
   "execution_count": 52,
   "id": "93e24275-e396-426f-b031-dd3e151b649f",
   "metadata": {},
   "outputs": [
    {
     "data": {
      "image/png": "[encoded data removed]",
      "text/plain": [
       "<Figure size 640x480 with 1 Axes>"
      ]
     },
     "metadata": {},
     "output_type": "display_data"
    }
   ],
   "source": [
    "results = pd.DataFrame()\n",
    "results['alpha'] = grid['alpha']\n",
    "results['train'] = NBayesCV.cv_results_['mean_train_score']\n",
    "results['valid'] = NBayesCV.cv_results_['mean_test_score']\n",
    "# results['baseline'] = 0.5\n",
    "results.plot.line(x='alpha',y=['train','valid'])\n",
    "plt.show()"
   ]
  },
  {
   "cell_type": "code",
   "execution_count": 53,
   "id": "3849df43-2f6e-4010-ac6f-4c8e08fb5c3f",
   "metadata": {},
   "outputs": [
    {
     "data": {
      "text/plain": [
       "{'alpha': 0.29}"
      ]
     },
     "execution_count": 53,
     "metadata": {},
     "output_type": "execute_result"
    }
   ],
   "source": [
    "a = NBayesCV.best_params_\n",
    "word_counts = vectorizer.fit_transform(cleaned)\n",
    "vocabulary = vectorizer.get_feature_names_out()\n",
    "a"
   ]
  },
  {
   "cell_type": "code",
   "execution_count": 79,
   "id": "8215eaf5-f910-457e-98fb-accebe12cb66",
   "metadata": {},
   "outputs": [
    {
     "name": "stdout",
     "output_type": "stream",
     "text": [
      "Naive Bayes validation rate: 0.932\n"
     ]
    }
   ],
   "source": [
    "acc_nbayes = NBayesCV.best_score_\n",
    "print('Naive Bayes validation rate:',acc_nbayes.round(3))"
   ]
  },
  {
   "cell_type": "markdown",
   "id": "468d413b-cb21-49c2-a03c-1c2a4bc5d7fc",
   "metadata": {},
   "source": [
    "#Top 10 important insincere words"
   ]
  },
  {
   "cell_type": "code",
   "execution_count": 63,
   "id": "45843bed-73ee-4f7e-9e4b-efa5e374b5b4",
   "metadata": {},
   "outputs": [],
   "source": [
    "\n",
    "sample = train.sample(n=sample_amount, random_state=42)\n",
    "sample = sample[['question_text', 'target']].dropna()\n",
    "sample['question_text'] = sample['question_text'].apply(lambda x: x.lower().strip())\n",
    "sample = sample[sample['target'] == 1]\n",
    "cleaned = [clean_text(text) for text in sample['question_text']]\n",
    "X = cleaned\n",
    "y = sample.target\n",
    "y = y.astype('category')"
   ]
  },
  {
   "cell_type": "code",
   "execution_count": 64,
   "id": "512e5012-3d07-4b61-aa5f-dc8c505e257b",
   "metadata": {},
   "outputs": [],
   "source": [
    "word_counts = vectorizer.fit_transform(cleaned)\n",
    "vocabulary = vectorizer.get_feature_names_out()"
   ]
  },
  {
   "cell_type": "code",
   "execution_count": 65,
   "id": "3f89f7f3-948d-4ada-9813-08335146fcb2",
   "metadata": {},
   "outputs": [],
   "source": [
    "word_counts = pd.DataFrame.sparse.from_spmatrix(word_counts,columns=vocabulary)"
   ]
  },
  {
   "cell_type": "code",
   "execution_count": null,
   "id": "ff111748-e329-4b71-9bd0-105733dfbcf1",
   "metadata": {},
   "outputs": [],
   "source": []
  },
  {
   "cell_type": "code",
   "execution_count": 66,
   "id": "67a3d421-08e2-4c96-810f-c0c959440f17",
   "metadata": {},
   "outputs": [
    {
     "name": "stdout",
     "output_type": "stream",
     "text": [
      "top ten words:\n"
     ]
    },
    {
     "data": {
      "text/plain": [
       "best          54.052829\n",
       "like          45.912064\n",
       "people        43.048239\n",
       "good          39.120580\n",
       "year          32.087856\n",
       "make          31.257740\n",
       "time          30.135571\n",
       "india         28.377810\n",
       "job           28.057136\n",
       "way           26.694684\n",
       "think         25.954293\n",
       "work          25.084409\n",
       "know          23.974159\n",
       "life          21.679124\n",
       "day           21.132024\n",
       "use           20.941509\n",
       "used          20.712479\n",
       "want          20.523492\n",
       "feel          19.957445\n",
       "friend        19.765328\n",
       "difference    19.276400\n",
       "person        19.257063\n",
       "book          19.213514\n",
       "thing         18.885081\n",
       "college       18.541754\n",
       "dont          18.310031\n",
       "whats         17.953020\n",
       "country       17.876116\n",
       "new           17.410391\n",
       "company       16.963348\n",
       "girl          16.634471\n",
       "business      16.548467\n",
       "money         16.502964\n",
       "mean          16.368087\n",
       "stop          16.285748\n",
       "change        16.273566\n",
       "old           16.047835\n",
       "world         15.981977\n",
       "learn         15.900189\n",
       "student       15.481100\n",
       "indian        15.425860\n",
       "university    15.388477\n",
       "possible      15.365317\n",
       "study         14.691461\n",
       "start         14.672997\n",
       "im            14.469158\n",
       "school        14.306646\n",
       "different     14.271126\n",
       "better        14.202549\n",
       "need          14.190576\n",
       "dtype: float64"
      ]
     },
     "execution_count": 66,
     "metadata": {},
     "output_type": "execute_result"
    }
   ],
   "source": [
    "# count words\n",
    "print('top ten words:')\n",
    "word_counts.sum().sort_values(ascending=False).head(50)"
   ]
  },
  {
   "cell_type": "code",
   "execution_count": 59,
   "id": "45ac6c28-3c1b-4f3b-b709-3a33663d980f",
   "metadata": {},
   "outputs": [],
   "source": [
    "\n",
    "\n",
    "Vectorizer = TfidfVectorizer(analyzer='word',stop_words='english')\n",
    "tfidf      = Vectorizer.fit_transform(cleaned)\n",
    "vocabulary = Vectorizer.get_feature_names_out()"
   ]
  },
  {
   "cell_type": "code",
   "execution_count": 60,
   "id": "cbc2c207-0b28-4860-937a-7127f17d57d9",
   "metadata": {},
   "outputs": [
    {
     "name": "stdout",
     "output_type": "stream",
     "text": [
      "(310, 1497)\n"
     ]
    },
    {
     "data": {
      "text/html": [
       "<div>\n",
       "<style scoped>\n",
       "    .dataframe tbody tr th:only-of-type {\n",
       "        vertical-align: middle;\n",
       "    }\n",
       "\n",
       "    .dataframe tbody tr th {\n",
       "        vertical-align: top;\n",
       "    }\n",
       "\n",
       "    .dataframe thead th {\n",
       "        text-align: right;\n",
       "    }\n",
       "</style>\n",
       "<table border=\"1\" class=\"dataframe\">\n",
       "  <thead>\n",
       "    <tr style=\"text-align: right;\">\n",
       "      <th></th>\n",
       "      <th>abbott</th>\n",
       "      <th>abiding</th>\n",
       "      <th>able</th>\n",
       "      <th>abled</th>\n",
       "      <th>abolished</th>\n",
       "      <th>abort</th>\n",
       "      <th>abortion</th>\n",
       "      <th>abroad</th>\n",
       "      <th>absolutely</th>\n",
       "      <th>abuse</th>\n",
       "      <th>...</th>\n",
       "      <th>xi</th>\n",
       "      <th>yahoo</th>\n",
       "      <th>year</th>\n",
       "      <th>yezidi</th>\n",
       "      <th>yiannopoulos</th>\n",
       "      <th>young</th>\n",
       "      <th>youth</th>\n",
       "      <th>zero</th>\n",
       "      <th>zionism</th>\n",
       "      <th>zuckerberg</th>\n",
       "    </tr>\n",
       "  </thead>\n",
       "  <tbody>\n",
       "    <tr>\n",
       "      <th>0</th>\n",
       "      <td>0.0</td>\n",
       "      <td>0.0</td>\n",
       "      <td>0.0</td>\n",
       "      <td>0.0</td>\n",
       "      <td>0.0</td>\n",
       "      <td>0.0</td>\n",
       "      <td>0.0</td>\n",
       "      <td>0.0</td>\n",
       "      <td>0.0</td>\n",
       "      <td>0.0</td>\n",
       "      <td>...</td>\n",
       "      <td>0.0</td>\n",
       "      <td>0.620887</td>\n",
       "      <td>0.0</td>\n",
       "      <td>0.0</td>\n",
       "      <td>0.0</td>\n",
       "      <td>0.0</td>\n",
       "      <td>0.0</td>\n",
       "      <td>0.0</td>\n",
       "      <td>0.0</td>\n",
       "      <td>0.0</td>\n",
       "    </tr>\n",
       "    <tr>\n",
       "      <th>1</th>\n",
       "      <td>0.0</td>\n",
       "      <td>0.0</td>\n",
       "      <td>0.0</td>\n",
       "      <td>0.0</td>\n",
       "      <td>0.0</td>\n",
       "      <td>0.0</td>\n",
       "      <td>0.0</td>\n",
       "      <td>0.0</td>\n",
       "      <td>0.0</td>\n",
       "      <td>0.0</td>\n",
       "      <td>...</td>\n",
       "      <td>0.0</td>\n",
       "      <td>0.000000</td>\n",
       "      <td>0.0</td>\n",
       "      <td>0.0</td>\n",
       "      <td>0.0</td>\n",
       "      <td>0.0</td>\n",
       "      <td>0.0</td>\n",
       "      <td>0.0</td>\n",
       "      <td>0.0</td>\n",
       "      <td>0.0</td>\n",
       "    </tr>\n",
       "    <tr>\n",
       "      <th>2</th>\n",
       "      <td>0.0</td>\n",
       "      <td>0.0</td>\n",
       "      <td>0.0</td>\n",
       "      <td>0.0</td>\n",
       "      <td>0.0</td>\n",
       "      <td>0.0</td>\n",
       "      <td>0.0</td>\n",
       "      <td>0.0</td>\n",
       "      <td>0.0</td>\n",
       "      <td>0.0</td>\n",
       "      <td>...</td>\n",
       "      <td>0.0</td>\n",
       "      <td>0.000000</td>\n",
       "      <td>0.0</td>\n",
       "      <td>0.0</td>\n",
       "      <td>0.0</td>\n",
       "      <td>0.0</td>\n",
       "      <td>0.0</td>\n",
       "      <td>0.0</td>\n",
       "      <td>0.0</td>\n",
       "      <td>0.0</td>\n",
       "    </tr>\n",
       "    <tr>\n",
       "      <th>3</th>\n",
       "      <td>0.0</td>\n",
       "      <td>0.0</td>\n",
       "      <td>0.0</td>\n",
       "      <td>0.0</td>\n",
       "      <td>0.0</td>\n",
       "      <td>0.0</td>\n",
       "      <td>0.0</td>\n",
       "      <td>0.0</td>\n",
       "      <td>0.0</td>\n",
       "      <td>0.0</td>\n",
       "      <td>...</td>\n",
       "      <td>0.0</td>\n",
       "      <td>0.000000</td>\n",
       "      <td>0.0</td>\n",
       "      <td>0.0</td>\n",
       "      <td>0.0</td>\n",
       "      <td>0.0</td>\n",
       "      <td>0.0</td>\n",
       "      <td>0.0</td>\n",
       "      <td>0.0</td>\n",
       "      <td>0.0</td>\n",
       "    </tr>\n",
       "    <tr>\n",
       "      <th>4</th>\n",
       "      <td>0.0</td>\n",
       "      <td>0.0</td>\n",
       "      <td>0.0</td>\n",
       "      <td>0.0</td>\n",
       "      <td>0.0</td>\n",
       "      <td>0.0</td>\n",
       "      <td>0.0</td>\n",
       "      <td>0.0</td>\n",
       "      <td>0.0</td>\n",
       "      <td>0.0</td>\n",
       "      <td>...</td>\n",
       "      <td>0.0</td>\n",
       "      <td>0.000000</td>\n",
       "      <td>0.0</td>\n",
       "      <td>0.0</td>\n",
       "      <td>0.0</td>\n",
       "      <td>0.0</td>\n",
       "      <td>0.0</td>\n",
       "      <td>0.0</td>\n",
       "      <td>0.0</td>\n",
       "      <td>0.0</td>\n",
       "    </tr>\n",
       "  </tbody>\n",
       "</table>\n",
       "<p>5 rows × 1497 columns</p>\n",
       "</div>"
      ],
      "text/plain": [
       "   abbott  abiding  able  abled  abolished  abort  abortion  abroad   \n",
       "0     0.0      0.0   0.0    0.0        0.0    0.0       0.0     0.0  \\\n",
       "1     0.0      0.0   0.0    0.0        0.0    0.0       0.0     0.0   \n",
       "2     0.0      0.0   0.0    0.0        0.0    0.0       0.0     0.0   \n",
       "3     0.0      0.0   0.0    0.0        0.0    0.0       0.0     0.0   \n",
       "4     0.0      0.0   0.0    0.0        0.0    0.0       0.0     0.0   \n",
       "\n",
       "   absolutely  abuse  ...   xi     yahoo  year  yezidi  yiannopoulos  young   \n",
       "0         0.0    0.0  ...  0.0  0.620887   0.0     0.0           0.0    0.0  \\\n",
       "1         0.0    0.0  ...  0.0  0.000000   0.0     0.0           0.0    0.0   \n",
       "2         0.0    0.0  ...  0.0  0.000000   0.0     0.0           0.0    0.0   \n",
       "3         0.0    0.0  ...  0.0  0.000000   0.0     0.0           0.0    0.0   \n",
       "4         0.0    0.0  ...  0.0  0.000000   0.0     0.0           0.0    0.0   \n",
       "\n",
       "   youth  zero  zionism  zuckerberg  \n",
       "0    0.0   0.0      0.0         0.0  \n",
       "1    0.0   0.0      0.0         0.0  \n",
       "2    0.0   0.0      0.0         0.0  \n",
       "3    0.0   0.0      0.0         0.0  \n",
       "4    0.0   0.0      0.0         0.0  \n",
       "\n",
       "[5 rows x 1497 columns]"
      ]
     },
     "execution_count": 60,
     "metadata": {},
     "output_type": "execute_result"
    }
   ],
   "source": [
    "tfidf = pd.DataFrame.sparse.from_spmatrix(tfidf,columns=vocabulary)\n",
    "print(tfidf.shape)\n",
    "tfidf.head()"
   ]
  },
  {
   "cell_type": "code",
   "execution_count": 61,
   "id": "ccfaeedf-9e8d-4b79-a408-95f22a1eb297",
   "metadata": {},
   "outputs": [
    {
     "name": "stdout",
     "output_type": "stream",
     "text": [
      "top ten important insincere words:\n"
     ]
    },
    {
     "data": {
      "text/plain": [
       "people      8.847891\n",
       "woman       8.279694\n",
       "indian      7.816885\n",
       "like        6.902978\n",
       "trump       5.707775\n",
       "men         5.553395\n",
       "black       4.493827\n",
       "sex         4.412404\n",
       "muslim      4.229911\n",
       "dont        4.193482\n",
       "quora       3.909173\n",
       "feel        3.886991\n",
       "question    3.820904\n",
       "india       3.556466\n",
       "american    3.301386\n",
       "country     3.274101\n",
       "white       3.271596\n",
       "right       2.976939\n",
       "liberal     2.840843\n",
       "south       2.638522\n",
       "dtype: float64"
      ]
     },
     "execution_count": 61,
     "metadata": {},
     "output_type": "execute_result"
    }
   ],
   "source": [
    "# count words\n",
    "print('top ten important insincere words:')\n",
    "tfidf.sum().sort_values(ascending=False).head(20)"
   ]
  },
  {
   "cell_type": "code",
   "execution_count": 62,
   "id": "5855caa8-9c47-46bc-9663-2cc2d118fe06",
   "metadata": {},
   "outputs": [
    {
     "name": "stdout",
     "output_type": "stream",
     "text": [
      "top ten idf words\n",
      "-----------------\n",
      "abbott                6.046646\n",
      "notice                6.046646\n",
      "nye                   6.046646\n",
      "nut                   6.046646\n",
      "nun                   6.046646\n",
      "numerous              6.046646\n",
      "nuclear               6.046646\n",
      "nowadays              6.046646\n",
      "noticed               6.046646\n",
      "nose                  6.046646\n",
      "obligated             6.046646\n",
      "northeastern          6.046646\n",
      "normal                6.046646\n",
      "nonwhites             6.046646\n",
      "noncollegeeducated    6.046646\n",
      "nonbritish            6.046646\n",
      "nityananda            6.046646\n",
      "niece                 6.046646\n",
      "ob                    6.046646\n",
      "obscure               6.046646\n",
      "newtown               6.046646\n",
      "official              6.046646\n",
      "opium                 6.046646\n",
      "opinion               6.046646\n",
      "operation             6.046646\n",
      "online                6.046646\n",
      "older                 6.046646\n",
      "okay                  6.046646\n",
      "oh                    6.046646\n",
      "offering              6.046646\n",
      "obsessed              6.046646\n",
      "offensive             6.046646\n",
      "offends               6.046646\n",
      "offend                6.046646\n",
      "odonnell              6.046646\n",
      "occupying             6.046646\n",
      "obvious               6.046646\n",
      "obsessive             6.046646\n",
      "nfl                   6.046646\n",
      "neurotypicals         6.046646\n",
      "dtype: float64\n"
     ]
    }
   ],
   "source": [
    "idf_words = pd.Series(Vectorizer.idf_,index=vocabulary).sort_values(ascending=False)\n",
    "print('top ten idf words')\n",
    "print('-----------------')\n",
    "print(idf_words.head(40))"
   ]
  },
  {
   "cell_type": "markdown",
   "id": "49118917-2175-4c0e-945a-509683bc6608",
   "metadata": {},
   "source": [
    "Logistici regressor"
   ]
  },
  {
   "cell_type": "code",
   "execution_count": null,
   "id": "ee477b76-6716-43e8-8db3-71ce51471ed2",
   "metadata": {},
   "outputs": [],
   "source": []
  },
  {
   "cell_type": "code",
   "execution_count": 67,
   "id": "b8acef50-9ef8-4d53-a2fd-051b3b0667eb",
   "metadata": {},
   "outputs": [],
   "source": [
    "sample = train.sample(n=sample_amount, random_state=42)\n",
    "sample = sample[['question_text', 'target']].dropna()\n",
    "sample['question_text'] = sample['question_text'].apply(lambda x: x.lower().strip())\n",
    "cleaned = [clean_text(text) for text in sample['question_text']]\n",
    "X = cleaned\n",
    "y = sample.target\n",
    "y = y.astype('category')"
   ]
  },
  {
   "cell_type": "code",
   "execution_count": 94,
   "id": "580c5053-847d-40ab-8df2-5b600657e261",
   "metadata": {},
   "outputs": [],
   "source": [
    "#logistic regressor\n",
    "\n",
    "vectorizer = TfidfVectorizer(analyzer='word', stop_words='english')\n",
    "tfidf = vectorizer.fit_transform(X)\n",
    "logreg = LogisticRegression()\n",
    "logreg.fit(tfidf, y)\n",
    "vocabulary = vectorizer.vocabulary_\n"
   ]
  },
  {
   "cell_type": "code",
   "execution_count": 78,
   "id": "a9dc466f-5aab-4c56-b33b-40ba7b918697",
   "metadata": {},
   "outputs": [
    {
     "name": "stdout",
     "output_type": "stream",
     "text": [
      "training score 0.9388\n"
     ]
    }
   ],
   "source": [
    "training_score = logreg.score(tfidf, y)\n",
    "print('training score',training_score)"
   ]
  },
  {
   "cell_type": "code",
   "execution_count": 70,
   "id": "41cf0fc7-5c98-46f1-a2b0-5d71ffefd0dd",
   "metadata": {},
   "outputs": [
    {
     "name": "stdout",
     "output_type": "stream",
     "text": [
      "validation score 0.9383999999999999\n"
     ]
    }
   ],
   "source": [
    "scores=cross_validate(logreg,tfidf, y, return_train_score=True, n_jobs=-1)\n",
    "validation_score=scores[\"test_score\"].mean()\n",
    "print('validation score', validation_score)"
   ]
  },
  {
   "cell_type": "code",
   "execution_count": 71,
   "id": "acf2f127-9ac7-442a-b9d2-d32a06b27344",
   "metadata": {},
   "outputs": [],
   "source": [
    "test = pd.read_csv('/home/zhengy9/MachineLearning/Project/test.csv')"
   ]
  },
  {
   "cell_type": "code",
   "execution_count": 72,
   "id": "65ba4af7-8f8d-476a-a644-5c0bbcd1277a",
   "metadata": {},
   "outputs": [
    {
     "name": "stdout",
     "output_type": "stream",
     "text": [
      "(1, 8911)\n"
     ]
    }
   ],
   "source": [
    "print(logreg.coef_.shape)\n"
   ]
  },
  {
   "cell_type": "code",
   "execution_count": 97,
   "id": "846ed9c4-20b9-481d-a4ee-1386dfbe2cfd",
   "metadata": {},
   "outputs": [],
   "source": [
    "ans = sample.copy()\n",
    "\n",
    "vectorizer = TfidfVectorizer(analyzer='word', stop_words='english',vocabulary=vocabulary)\n",
    "tfidf = vectorizer.fit_transform(ans.question_text)\n",
    "res = logreg.predict(tfidf) "
   ]
  },
  {
   "cell_type": "code",
   "execution_count": 74,
   "id": "7df68d9a-27c3-4704-a079-aa63f20eaf58",
   "metadata": {},
   "outputs": [],
   "source": [
    "ans['target'] = res"
   ]
  },
  {
   "cell_type": "code",
   "execution_count": 81,
   "id": "fd335e5b-2105-4ebc-a88a-3ab50cb4f053",
   "metadata": {},
   "outputs": [
    {
     "data": {
      "text/html": [
       "<div>\n",
       "<style scoped>\n",
       "    .dataframe tbody tr th:only-of-type {\n",
       "        vertical-align: middle;\n",
       "    }\n",
       "\n",
       "    .dataframe tbody tr th {\n",
       "        vertical-align: top;\n",
       "    }\n",
       "\n",
       "    .dataframe thead th {\n",
       "        text-align: right;\n",
       "    }\n",
       "</style>\n",
       "<table border=\"1\" class=\"dataframe\">\n",
       "  <thead>\n",
       "    <tr style=\"text-align: right;\">\n",
       "      <th></th>\n",
       "      <th>question_text</th>\n",
       "      <th>target</th>\n",
       "    </tr>\n",
       "  </thead>\n",
       "  <tbody>\n",
       "    <tr>\n",
       "      <th>443046</th>\n",
       "      <td>what is the most effective classroom managemen...</td>\n",
       "      <td>0</td>\n",
       "    </tr>\n",
       "    <tr>\n",
       "      <th>947549</th>\n",
       "      <td>can i study abroad after 10th class from bangl...</td>\n",
       "      <td>0</td>\n",
       "    </tr>\n",
       "    <tr>\n",
       "      <th>523769</th>\n",
       "      <td>how can i make friends as a college junior?</td>\n",
       "      <td>0</td>\n",
       "    </tr>\n",
       "    <tr>\n",
       "      <th>949821</th>\n",
       "      <td>how do i download free apk minecraft: pocket e...</td>\n",
       "      <td>0</td>\n",
       "    </tr>\n",
       "    <tr>\n",
       "      <th>1030397</th>\n",
       "      <td>like kuvera, is \"groww\" also a free online inv...</td>\n",
       "      <td>0</td>\n",
       "    </tr>\n",
       "    <tr>\n",
       "      <th>1277337</th>\n",
       "      <td>what is the precise definition for record in a...</td>\n",
       "      <td>0</td>\n",
       "    </tr>\n",
       "    <tr>\n",
       "      <th>199566</th>\n",
       "      <td>what was leonidas's role in the battle of ther...</td>\n",
       "      <td>0</td>\n",
       "    </tr>\n",
       "    <tr>\n",
       "      <th>1213793</th>\n",
       "      <td>how can we get universities in germany with ou...</td>\n",
       "      <td>0</td>\n",
       "    </tr>\n",
       "    <tr>\n",
       "      <th>105499</th>\n",
       "      <td>what's the remainder of 30^33/3?</td>\n",
       "      <td>0</td>\n",
       "    </tr>\n",
       "    <tr>\n",
       "      <th>552145</th>\n",
       "      <td>what is your mindset while learning a new skil...</td>\n",
       "      <td>0</td>\n",
       "    </tr>\n",
       "  </tbody>\n",
       "</table>\n",
       "</div>"
      ],
      "text/plain": [
       "                                             question_text  target\n",
       "443046   what is the most effective classroom managemen...       0\n",
       "947549   can i study abroad after 10th class from bangl...       0\n",
       "523769         how can i make friends as a college junior?       0\n",
       "949821   how do i download free apk minecraft: pocket e...       0\n",
       "1030397  like kuvera, is \"groww\" also a free online inv...       0\n",
       "1277337  what is the precise definition for record in a...       0\n",
       "199566   what was leonidas's role in the battle of ther...       0\n",
       "1213793  how can we get universities in germany with ou...       0\n",
       "105499                    what's the remainder of 30^33/3?       0\n",
       "552145   what is your mindset while learning a new skil...       0"
      ]
     },
     "execution_count": 81,
     "metadata": {},
     "output_type": "execute_result"
    }
   ],
   "source": [
    "ans.head(10)"
   ]
  },
  {
   "cell_type": "code",
   "execution_count": 82,
   "id": "66ed3dbf-f992-4566-be53-53fe747480e3",
   "metadata": {},
   "outputs": [],
   "source": [
    "insincere_df = ans[ans['target'] == 1]"
   ]
  },
  {
   "cell_type": "code",
   "execution_count": null,
   "id": "7a6b06b1-e615-4a15-b867-5e94fe5c9dbe",
   "metadata": {},
   "outputs": [],
   "source": []
  },
  {
   "cell_type": "code",
   "execution_count": 35,
   "id": "f2194502-6ce9-414e-859c-813506436626",
   "metadata": {},
   "outputs": [
    {
     "data": {
      "text/html": [
       "<div>\n",
       "<style scoped>\n",
       "    .dataframe tbody tr th:only-of-type {\n",
       "        vertical-align: middle;\n",
       "    }\n",
       "\n",
       "    .dataframe tbody tr th {\n",
       "        vertical-align: top;\n",
       "    }\n",
       "\n",
       "    .dataframe thead th {\n",
       "        text-align: right;\n",
       "    }\n",
       "</style>\n",
       "<table border=\"1\" class=\"dataframe\">\n",
       "  <thead>\n",
       "    <tr style=\"text-align: right;\">\n",
       "      <th></th>\n",
       "      <th>question_text</th>\n",
       "      <th>target</th>\n",
       "    </tr>\n",
       "  </thead>\n",
       "  <tbody>\n",
       "    <tr>\n",
       "      <th>443046</th>\n",
       "      <td>what is the most effective classroom managemen...</td>\n",
       "      <td>0</td>\n",
       "    </tr>\n",
       "    <tr>\n",
       "      <th>947549</th>\n",
       "      <td>can i study abroad after 10th class from bangl...</td>\n",
       "      <td>0</td>\n",
       "    </tr>\n",
       "    <tr>\n",
       "      <th>523769</th>\n",
       "      <td>how can i make friends as a college junior?</td>\n",
       "      <td>0</td>\n",
       "    </tr>\n",
       "    <tr>\n",
       "      <th>949821</th>\n",
       "      <td>how do i download free apk minecraft: pocket e...</td>\n",
       "      <td>0</td>\n",
       "    </tr>\n",
       "    <tr>\n",
       "      <th>1030397</th>\n",
       "      <td>like kuvera, is \"groww\" also a free online inv...</td>\n",
       "      <td>0</td>\n",
       "    </tr>\n",
       "    <tr>\n",
       "      <th>...</th>\n",
       "      <td>...</td>\n",
       "      <td>...</td>\n",
       "    </tr>\n",
       "    <tr>\n",
       "      <th>1281435</th>\n",
       "      <td>what are some gang identifications? how do the...</td>\n",
       "      <td>0</td>\n",
       "    </tr>\n",
       "    <tr>\n",
       "      <th>30882</th>\n",
       "      <td>could the numerous acts of arms being severed ...</td>\n",
       "      <td>0</td>\n",
       "    </tr>\n",
       "    <tr>\n",
       "      <th>311740</th>\n",
       "      <td>does eating millets reduce insulin resistance?</td>\n",
       "      <td>0</td>\n",
       "    </tr>\n",
       "    <tr>\n",
       "      <th>794513</th>\n",
       "      <td>what are the best and worst years of high school?</td>\n",
       "      <td>0</td>\n",
       "    </tr>\n",
       "    <tr>\n",
       "      <th>1114583</th>\n",
       "      <td>do you support free software or do you prefer ...</td>\n",
       "      <td>0</td>\n",
       "    </tr>\n",
       "  </tbody>\n",
       "</table>\n",
       "<p>100 rows × 2 columns</p>\n",
       "</div>"
      ],
      "text/plain": [
       "                                             question_text  target\n",
       "443046   what is the most effective classroom managemen...       0\n",
       "947549   can i study abroad after 10th class from bangl...       0\n",
       "523769         how can i make friends as a college junior?       0\n",
       "949821   how do i download free apk minecraft: pocket e...       0\n",
       "1030397  like kuvera, is \"groww\" also a free online inv...       0\n",
       "...                                                    ...     ...\n",
       "1281435  what are some gang identifications? how do the...       0\n",
       "30882    could the numerous acts of arms being severed ...       0\n",
       "311740      does eating millets reduce insulin resistance?       0\n",
       "794513   what are the best and worst years of high school?       0\n",
       "1114583  do you support free software or do you prefer ...       0\n",
       "\n",
       "[100 rows x 2 columns]"
      ]
     },
     "execution_count": 35,
     "metadata": {},
     "output_type": "execute_result"
    }
   ],
   "source": [
    "sincere_df = ans[ans['target'] == 0]\n",
    "sincere_df.head(100)"
   ]
  },
  {
   "cell_type": "code",
   "execution_count": 36,
   "id": "60c3b7cd-ba5e-48a3-a519-9a36451f344c",
   "metadata": {},
   "outputs": [
    {
     "name": "stdout",
     "output_type": "stream",
     "text": [
      "\n"
     ]
    },
    {
     "data": {
      "text/html": [
       "<div>\n",
       "<style scoped>\n",
       "    .dataframe tbody tr th:only-of-type {\n",
       "        vertical-align: middle;\n",
       "    }\n",
       "\n",
       "    .dataframe tbody tr th {\n",
       "        vertical-align: top;\n",
       "    }\n",
       "\n",
       "    .dataframe thead th {\n",
       "        text-align: right;\n",
       "    }\n",
       "</style>\n",
       "<table border=\"1\" class=\"dataframe\">\n",
       "  <thead>\n",
       "    <tr style=\"text-align: right;\">\n",
       "      <th></th>\n",
       "      <th>question_text</th>\n",
       "      <th>target</th>\n",
       "    </tr>\n",
       "  </thead>\n",
       "  <tbody>\n",
       "    <tr>\n",
       "      <th>443046</th>\n",
       "      <td>what is the most effective classroom managemen...</td>\n",
       "      <td>0</td>\n",
       "    </tr>\n",
       "    <tr>\n",
       "      <th>947549</th>\n",
       "      <td>can i study abroad after 10th class from bangl...</td>\n",
       "      <td>0</td>\n",
       "    </tr>\n",
       "    <tr>\n",
       "      <th>523769</th>\n",
       "      <td>how can i make friends as a college junior?</td>\n",
       "      <td>0</td>\n",
       "    </tr>\n",
       "  </tbody>\n",
       "</table>\n",
       "</div>"
      ],
      "text/plain": [
       "                                            question_text  target\n",
       "443046  what is the most effective classroom managemen...       0\n",
       "947549  can i study abroad after 10th class from bangl...       0\n",
       "523769        how can i make friends as a college junior?       0"
      ]
     },
     "metadata": {},
     "output_type": "display_data"
    },
    {
     "name": "stdout",
     "output_type": "stream",
     "text": [
      "Error --> question_pred.csv has not been defined.\n"
     ]
    }
   ],
   "source": [
    " try:\n",
    "    print()\n",
    "    display(ans.head(3))\n",
    "    df_ans.to_csv('/home/zhengy9/MachineLearning/Project/question_pred.csv',index=False)\n",
    "    print('question_pred.csv saved.')\n",
    "except:\n",
    "    print('Error --> question_pred.csv has not been defined.')"
   ]
  },
  {
   "cell_type": "code",
   "execution_count": null,
   "id": "d5582d29-29e8-4499-96b1-d852290553c9",
   "metadata": {},
   "outputs": [],
   "source": []
  },
  {
   "cell_type": "code",
   "execution_count": null,
   "id": "d06e4753-8bfc-4a04-82e7-84eef8832ec9",
   "metadata": {},
   "outputs": [],
   "source": []
  },
  {
   "cell_type": "code",
   "execution_count": null,
   "id": "4236703d-f02a-4b29-b202-ef73f33e7829",
   "metadata": {},
   "outputs": [],
   "source": []
  }
 ],
 "metadata": {
  "kernelspec": {
   "display_name": "Python 3 (ipykernel)",
   "language": "python",
   "name": "python3"
  },
  "language_info": {
   "codemirror_mode": {
    "name": "ipython",
    "version": 3
   },
   "file_extension": ".py",
   "mimetype": "text/x-python",
   "name": "python",
   "nbconvert_exporter": "python",
   "pygments_lexer": "ipython3",
   "version": "3.9.16"
  }
 },
 "nbformat": 4,
 "nbformat_minor": 5
}
