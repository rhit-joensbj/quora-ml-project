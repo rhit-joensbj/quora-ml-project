{
 "cells": [
  {
   "cell_type": "code",
   "execution_count": 1,
   "id": "03f64948-b7a4-4691-a693-2db8a391ead3",
   "metadata": {},
   "outputs": [],
   "source": [
    "import pandas as pd\n",
    "from sklearn.metrics import precision_score, recall_score, f1_score"
   ]
  },
  {
   "cell_type": "code",
   "execution_count": 2,
   "id": "c94e1e5f-ef0d-47bb-bdbd-90e655702e6e",
   "metadata": {},
   "outputs": [],
   "source": [
    "train = pd.read_csv('./train.csv')"
   ]
  },
  {
   "cell_type": "code",
   "execution_count": 3,
   "id": "9ef35b91-b1d0-4512-870d-e20ea1073c00",
   "metadata": {},
   "outputs": [
    {
     "data": {
      "text/plain": [
       "(1306122, 3)"
      ]
     },
     "execution_count": 3,
     "metadata": {},
     "output_type": "execute_result"
    }
   ],
   "source": [
    "train.shape"
   ]
  },
  {
   "cell_type": "code",
   "execution_count": 10,
   "id": "db8551cb-1b83-4396-a815-dcbefb6bd7d7",
   "metadata": {},
   "outputs": [
    {
     "data": {
      "text/html": [
       "<div>\n",
       "<style scoped>\n",
       "    .dataframe tbody tr th:only-of-type {\n",
       "        vertical-align: middle;\n",
       "    }\n",
       "\n",
       "    .dataframe tbody tr th {\n",
       "        vertical-align: top;\n",
       "    }\n",
       "\n",
       "    .dataframe thead th {\n",
       "        text-align: right;\n",
       "    }\n",
       "</style>\n",
       "<table border=\"1\" class=\"dataframe\">\n",
       "  <thead>\n",
       "    <tr style=\"text-align: right;\">\n",
       "      <th></th>\n",
       "      <th>Unnamed: 0</th>\n",
       "      <th>target</th>\n",
       "    </tr>\n",
       "  </thead>\n",
       "  <tbody>\n",
       "    <tr>\n",
       "      <th>0</th>\n",
       "      <td>1004728</td>\n",
       "      <td>0</td>\n",
       "    </tr>\n",
       "    <tr>\n",
       "      <th>1</th>\n",
       "      <td>653806</td>\n",
       "      <td>0</td>\n",
       "    </tr>\n",
       "    <tr>\n",
       "      <th>2</th>\n",
       "      <td>760181</td>\n",
       "      <td>0</td>\n",
       "    </tr>\n",
       "    <tr>\n",
       "      <th>3</th>\n",
       "      <td>807058</td>\n",
       "      <td>0</td>\n",
       "    </tr>\n",
       "    <tr>\n",
       "      <th>4</th>\n",
       "      <td>1232356</td>\n",
       "      <td>0</td>\n",
       "    </tr>\n",
       "  </tbody>\n",
       "</table>\n",
       "</div>"
      ],
      "text/plain": [
       "   Unnamed: 0  target\n",
       "0     1004728       0\n",
       "1      653806       0\n",
       "2      760181       0\n",
       "3      807058       0\n",
       "4     1232356       0"
      ]
     },
     "execution_count": 10,
     "metadata": {},
     "output_type": "execute_result"
    }
   ],
   "source": [
    "answer = pd.read_csv('./answer.csv')\n",
    "answer.head()"
   ]
  },
  {
   "cell_type": "code",
   "execution_count": 11,
   "id": "9c9031d4-63c7-4b04-82f5-6d2c2c3f2ba6",
   "metadata": {},
   "outputs": [
    {
     "data": {
      "text/html": [
       "<div>\n",
       "<style scoped>\n",
       "    .dataframe tbody tr th:only-of-type {\n",
       "        vertical-align: middle;\n",
       "    }\n",
       "\n",
       "    .dataframe tbody tr th {\n",
       "        vertical-align: top;\n",
       "    }\n",
       "\n",
       "    .dataframe thead th {\n",
       "        text-align: right;\n",
       "    }\n",
       "</style>\n",
       "<table border=\"1\" class=\"dataframe\">\n",
       "  <thead>\n",
       "    <tr style=\"text-align: right;\">\n",
       "      <th></th>\n",
       "      <th>Unnamed: 0</th>\n",
       "      <th>qid</th>\n",
       "      <th>question_text</th>\n",
       "      <th>target</th>\n",
       "    </tr>\n",
       "  </thead>\n",
       "  <tbody>\n",
       "    <tr>\n",
       "      <th>0</th>\n",
       "      <td>1004728</td>\n",
       "      <td>c4e715a348fae35d7892</td>\n",
       "      <td>Can you name 10 must visit cities / states in ...</td>\n",
       "      <td>0</td>\n",
       "    </tr>\n",
       "    <tr>\n",
       "      <th>1</th>\n",
       "      <td>653806</td>\n",
       "      <td>80100c5a400041dab5b6</td>\n",
       "      <td>Why is the term bilious fever no longer used?</td>\n",
       "      <td>0</td>\n",
       "    </tr>\n",
       "    <tr>\n",
       "      <th>2</th>\n",
       "      <td>760181</td>\n",
       "      <td>94f17bb712c29b36e487</td>\n",
       "      <td>How do I write a poem for a school competition...</td>\n",
       "      <td>0</td>\n",
       "    </tr>\n",
       "    <tr>\n",
       "      <th>3</th>\n",
       "      <td>807058</td>\n",
       "      <td>9e22d8e9d10b0186ae6e</td>\n",
       "      <td>What are the different types of digital storag...</td>\n",
       "      <td>0</td>\n",
       "    </tr>\n",
       "    <tr>\n",
       "      <th>4</th>\n",
       "      <td>1232356</td>\n",
       "      <td>f17ef03f2df95924e59a</td>\n",
       "      <td>Is Twenty One Pilots ever coming back?</td>\n",
       "      <td>0</td>\n",
       "    </tr>\n",
       "  </tbody>\n",
       "</table>\n",
       "</div>"
      ],
      "text/plain": [
       "   Unnamed: 0                   qid   \n",
       "0     1004728  c4e715a348fae35d7892  \\\n",
       "1      653806  80100c5a400041dab5b6   \n",
       "2      760181  94f17bb712c29b36e487   \n",
       "3      807058  9e22d8e9d10b0186ae6e   \n",
       "4     1232356  f17ef03f2df95924e59a   \n",
       "\n",
       "                                       question_text  target  \n",
       "0  Can you name 10 must visit cities / states in ...       0  \n",
       "1      Why is the term bilious fever no longer used?       0  \n",
       "2  How do I write a poem for a school competition...       0  \n",
       "3  What are the different types of digital storag...       0  \n",
       "4             Is Twenty One Pilots ever coming back?       0  "
      ]
     },
     "execution_count": 11,
     "metadata": {},
     "output_type": "execute_result"
    }
   ],
   "source": [
    "predicted = pd.read_csv('./data.csv')\n",
    "predicted.head()"
   ]
  },
  {
   "cell_type": "code",
   "execution_count": 8,
   "id": "b2f88d69-232d-4367-a72d-983ca1bd2502",
   "metadata": {},
   "outputs": [],
   "source": [
    "predicted=predicted.reset_index(drop=True).drop(predicted.columns[0],axis=1)"
   ]
  },
  {
   "cell_type": "code",
   "execution_count": 12,
   "id": "b4990155-70d7-4414-a78b-afa0355d7781",
   "metadata": {},
   "outputs": [],
   "source": [
    "accuracy = (answer.target == predicted.target).mean()"
   ]
  },
  {
   "cell_type": "code",
   "execution_count": 23,
   "id": "a88c2c6b-3235-46ec-b0fd-5077c81ca5e8",
   "metadata": {},
   "outputs": [
    {
     "data": {
      "text/plain": [
       "0.9465648854961832"
      ]
     },
     "execution_count": 23,
     "metadata": {},
     "output_type": "execute_result"
    }
   ],
   "source": [
    "accuracy"
   ]
  },
  {
   "cell_type": "code",
   "execution_count": 14,
   "id": "2786c8ec-4f1b-4ccc-9012-283e819b2163",
   "metadata": {},
   "outputs": [
    {
     "name": "stdout",
     "output_type": "stream",
     "text": [
      "Precision: 0.46153846153846156\n",
      "Recall: 1.0\n",
      "F1 Score: 0.631578947368421\n"
     ]
    }
   ],
   "source": [
    "# calculate precision, recall, and f1 score\n",
    "precision = precision_score(answer.target, predicted.target)\n",
    "recall = recall_score(answer.target, predicted.target)\n",
    "f1 = f1_score(answer.target, predicted.target)\n",
    "\n",
    "# print the results\n",
    "print(\"Precision:\", precision)\n",
    "print(\"Recall:\", recall)\n",
    "print(\"F1 Score:\", f1)"
   ]
  }
 ],
 "metadata": {
  "kernelspec": {
   "display_name": "Python 3 (ipykernel)",
   "language": "python",
   "name": "python3"
  },
  "language_info": {
   "codemirror_mode": {
    "name": "ipython",
    "version": 3
   },
   "file_extension": ".py",
   "mimetype": "text/x-python",
   "name": "python",
   "nbconvert_exporter": "python",
   "pygments_lexer": "ipython3",
   "version": "3.10.9"
  }
 },
 "nbformat": 4,
 "nbformat_minor": 5
}
