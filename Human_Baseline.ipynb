{
 "cells": [
  {
   "cell_type": "code",
   "execution_count": 1,
   "id": "03f64948-b7a4-4691-a693-2db8a391ead3",
   "metadata": {},
   "outputs": [],
   "source": [
    "import pandas as pd"
   ]
  },
  {
   "cell_type": "code",
   "execution_count": 2,
   "id": "c94e1e5f-ef0d-47bb-bdbd-90e655702e6e",
   "metadata": {},
   "outputs": [],
   "source": [
    "train = pd.read_csv('../train.csv')"
   ]
  },
  {
   "cell_type": "code",
   "execution_count": 3,
   "id": "9ef35b91-b1d0-4512-870d-e20ea1073c00",
   "metadata": {},
   "outputs": [
    {
     "data": {
      "text/plain": [
       "(1306122, 3)"
      ]
     },
     "execution_count": 3,
     "metadata": {},
     "output_type": "execute_result"
    }
   ],
   "source": [
    "train.shape"
   ]
  },
  {
   "cell_type": "code",
   "execution_count": 4,
   "id": "db8551cb-1b83-4396-a815-dcbefb6bd7d7",
   "metadata": {},
   "outputs": [
    {
     "data": {
      "text/html": [
       "<div>\n",
       "<style scoped>\n",
       "    .dataframe tbody tr th:only-of-type {\n",
       "        vertical-align: middle;\n",
       "    }\n",
       "\n",
       "    .dataframe tbody tr th {\n",
       "        vertical-align: top;\n",
       "    }\n",
       "\n",
       "    .dataframe thead th {\n",
       "        text-align: right;\n",
       "    }\n",
       "</style>\n",
       "<table border=\"1\" class=\"dataframe\">\n",
       "  <thead>\n",
       "    <tr style=\"text-align: right;\">\n",
       "      <th></th>\n",
       "      <th>qid</th>\n",
       "      <th>question_text</th>\n",
       "    </tr>\n",
       "  </thead>\n",
       "  <tbody>\n",
       "    <tr>\n",
       "      <th>1004728</th>\n",
       "      <td>c4e715a348fae35d7892</td>\n",
       "      <td>Can you name 10 must visit cities / states in ...</td>\n",
       "    </tr>\n",
       "    <tr>\n",
       "      <th>653806</th>\n",
       "      <td>80100c5a400041dab5b6</td>\n",
       "      <td>Why is the term bilious fever no longer used?</td>\n",
       "    </tr>\n",
       "    <tr>\n",
       "      <th>760181</th>\n",
       "      <td>94f17bb712c29b36e487</td>\n",
       "      <td>How do I write a poem for a school competition...</td>\n",
       "    </tr>\n",
       "    <tr>\n",
       "      <th>807058</th>\n",
       "      <td>9e22d8e9d10b0186ae6e</td>\n",
       "      <td>What are the different types of digital storag...</td>\n",
       "    </tr>\n",
       "    <tr>\n",
       "      <th>1232356</th>\n",
       "      <td>f17ef03f2df95924e59a</td>\n",
       "      <td>Is Twenty One Pilots ever coming back?</td>\n",
       "    </tr>\n",
       "  </tbody>\n",
       "</table>\n",
       "</div>"
      ],
      "text/plain": [
       "                          qid   \n",
       "1004728  c4e715a348fae35d7892  \\\n",
       "653806   80100c5a400041dab5b6   \n",
       "760181   94f17bb712c29b36e487   \n",
       "807058   9e22d8e9d10b0186ae6e   \n",
       "1232356  f17ef03f2df95924e59a   \n",
       "\n",
       "                                             question_text  \n",
       "1004728  Can you name 10 must visit cities / states in ...  \n",
       "653806       Why is the term bilious fever no longer used?  \n",
       "760181   How do I write a poem for a school competition...  \n",
       "807058   What are the different types of digital storag...  \n",
       "1232356             Is Twenty One Pilots ever coming back?  "
      ]
     },
     "execution_count": 4,
     "metadata": {},
     "output_type": "execute_result"
    }
   ],
   "source": [
    "selected = train.sample(frac=0.0001)\n",
    "sample = selected.drop('target', axis=1)\n",
    "answer = selected.target\n",
    "sample.head()"
   ]
  },
  {
   "cell_type": "code",
   "execution_count": 5,
   "id": "84eeb80a-79b9-4ab7-b28a-700a3396212a",
   "metadata": {},
   "outputs": [
    {
     "data": {
      "text/plain": [
       "(131,)"
      ]
     },
     "execution_count": 5,
     "metadata": {},
     "output_type": "execute_result"
    }
   ],
   "source": [
    "answer.shape"
   ]
  },
  {
   "cell_type": "code",
   "execution_count": 6,
   "id": "e092973b-f55c-4e61-89ca-5711a46b5a5a",
   "metadata": {},
   "outputs": [],
   "source": [
    "sample.to_csv('data.csv', index=True)"
   ]
  },
  {
   "cell_type": "code",
   "execution_count": 18,
   "id": "b2f88d69-232d-4367-a72d-983ca1bd2502",
   "metadata": {},
   "outputs": [],
   "source": [
    "predicted=predicted.reset_index(drop=True).drop(predicted.columns[0],axis=1)"
   ]
  },
  {
   "cell_type": "code",
   "execution_count": 20,
   "id": "5c4eed7f-8f9b-4ff3-a783-36ef65eef87b",
   "metadata": {},
   "outputs": [],
   "source": [
    "selected=selected.reset_index(drop=True)"
   ]
  },
  {
   "cell_type": "code",
   "execution_count": 22,
   "id": "b4990155-70d7-4414-a78b-afa0355d7781",
   "metadata": {},
   "outputs": [],
   "source": [
    "accuracy = (selected.target == predicted.target).mean()"
   ]
  },
  {
   "cell_type": "code",
   "execution_count": 23,
   "id": "a88c2c6b-3235-46ec-b0fd-5077c81ca5e8",
   "metadata": {},
   "outputs": [
    {
     "data": {
      "text/plain": [
       "0.9465648854961832"
      ]
     },
     "execution_count": 23,
     "metadata": {},
     "output_type": "execute_result"
    }
   ],
   "source": [
    "accuracy"
   ]
  },
  {
   "cell_type": "code",
   "execution_count": 21,
   "id": "2598b7ec-2dba-425e-9892-69e6a1a8a654",
   "metadata": {},
   "outputs": [
    {
     "data": {
      "text/html": [
       "<div>\n",
       "<style scoped>\n",
       "    .dataframe tbody tr th:only-of-type {\n",
       "        vertical-align: middle;\n",
       "    }\n",
       "\n",
       "    .dataframe tbody tr th {\n",
       "        vertical-align: top;\n",
       "    }\n",
       "\n",
       "    .dataframe thead th {\n",
       "        text-align: right;\n",
       "    }\n",
       "</style>\n",
       "<table border=\"1\" class=\"dataframe\">\n",
       "  <thead>\n",
       "    <tr style=\"text-align: right;\">\n",
       "      <th></th>\n",
       "      <th>qid</th>\n",
       "      <th>question_text</th>\n",
       "      <th>target</th>\n",
       "    </tr>\n",
       "  </thead>\n",
       "  <tbody>\n",
       "    <tr>\n",
       "      <th>0</th>\n",
       "      <td>c4e715a348fae35d7892</td>\n",
       "      <td>Can you name 10 must visit cities / states in ...</td>\n",
       "      <td>0</td>\n",
       "    </tr>\n",
       "    <tr>\n",
       "      <th>1</th>\n",
       "      <td>80100c5a400041dab5b6</td>\n",
       "      <td>Why is the term bilious fever no longer used?</td>\n",
       "      <td>0</td>\n",
       "    </tr>\n",
       "    <tr>\n",
       "      <th>2</th>\n",
       "      <td>94f17bb712c29b36e487</td>\n",
       "      <td>How do I write a poem for a school competition...</td>\n",
       "      <td>0</td>\n",
       "    </tr>\n",
       "    <tr>\n",
       "      <th>3</th>\n",
       "      <td>9e22d8e9d10b0186ae6e</td>\n",
       "      <td>What are the different types of digital storag...</td>\n",
       "      <td>0</td>\n",
       "    </tr>\n",
       "    <tr>\n",
       "      <th>4</th>\n",
       "      <td>f17ef03f2df95924e59a</td>\n",
       "      <td>Is Twenty One Pilots ever coming back?</td>\n",
       "      <td>0</td>\n",
       "    </tr>\n",
       "  </tbody>\n",
       "</table>\n",
       "</div>"
      ],
      "text/plain": [
       "                    qid                                      question_text   \n",
       "0  c4e715a348fae35d7892  Can you name 10 must visit cities / states in ...  \\\n",
       "1  80100c5a400041dab5b6      Why is the term bilious fever no longer used?   \n",
       "2  94f17bb712c29b36e487  How do I write a poem for a school competition...   \n",
       "3  9e22d8e9d10b0186ae6e  What are the different types of digital storag...   \n",
       "4  f17ef03f2df95924e59a             Is Twenty One Pilots ever coming back?   \n",
       "\n",
       "   target  \n",
       "0       0  \n",
       "1       0  \n",
       "2       0  \n",
       "3       0  \n",
       "4       0  "
      ]
     },
     "execution_count": 21,
     "metadata": {},
     "output_type": "execute_result"
    }
   ],
   "source": [
    "selected.head()"
   ]
  },
  {
   "cell_type": "code",
   "execution_count": 19,
   "id": "7b8d0559-c0f3-4138-9e8a-6aa0f7f53c19",
   "metadata": {},
   "outputs": [
    {
     "data": {
      "text/html": [
       "<div>\n",
       "<style scoped>\n",
       "    .dataframe tbody tr th:only-of-type {\n",
       "        vertical-align: middle;\n",
       "    }\n",
       "\n",
       "    .dataframe tbody tr th {\n",
       "        vertical-align: top;\n",
       "    }\n",
       "\n",
       "    .dataframe thead th {\n",
       "        text-align: right;\n",
       "    }\n",
       "</style>\n",
       "<table border=\"1\" class=\"dataframe\">\n",
       "  <thead>\n",
       "    <tr style=\"text-align: right;\">\n",
       "      <th></th>\n",
       "      <th>qid</th>\n",
       "      <th>question_text</th>\n",
       "      <th>target</th>\n",
       "    </tr>\n",
       "  </thead>\n",
       "  <tbody>\n",
       "    <tr>\n",
       "      <th>0</th>\n",
       "      <td>c4e715a348fae35d7892</td>\n",
       "      <td>Can you name 10 must visit cities / states in ...</td>\n",
       "      <td>0</td>\n",
       "    </tr>\n",
       "    <tr>\n",
       "      <th>1</th>\n",
       "      <td>80100c5a400041dab5b6</td>\n",
       "      <td>Why is the term bilious fever no longer used?</td>\n",
       "      <td>0</td>\n",
       "    </tr>\n",
       "    <tr>\n",
       "      <th>2</th>\n",
       "      <td>94f17bb712c29b36e487</td>\n",
       "      <td>How do I write a poem for a school competition...</td>\n",
       "      <td>0</td>\n",
       "    </tr>\n",
       "    <tr>\n",
       "      <th>3</th>\n",
       "      <td>9e22d8e9d10b0186ae6e</td>\n",
       "      <td>What are the different types of digital storag...</td>\n",
       "      <td>0</td>\n",
       "    </tr>\n",
       "    <tr>\n",
       "      <th>4</th>\n",
       "      <td>f17ef03f2df95924e59a</td>\n",
       "      <td>Is Twenty One Pilots ever coming back?</td>\n",
       "      <td>0</td>\n",
       "    </tr>\n",
       "  </tbody>\n",
       "</table>\n",
       "</div>"
      ],
      "text/plain": [
       "                    qid                                      question_text   \n",
       "0  c4e715a348fae35d7892  Can you name 10 must visit cities / states in ...  \\\n",
       "1  80100c5a400041dab5b6      Why is the term bilious fever no longer used?   \n",
       "2  94f17bb712c29b36e487  How do I write a poem for a school competition...   \n",
       "3  9e22d8e9d10b0186ae6e  What are the different types of digital storag...   \n",
       "4  f17ef03f2df95924e59a             Is Twenty One Pilots ever coming back?   \n",
       "\n",
       "   target  \n",
       "0       0  \n",
       "1       0  \n",
       "2       0  \n",
       "3       0  \n",
       "4       0  "
      ]
     },
     "execution_count": 19,
     "metadata": {},
     "output_type": "execute_result"
    }
   ],
   "source": [
    "predicted.head()"
   ]
  },
  {
   "cell_type": "code",
   "execution_count": null,
   "id": "2786c8ec-4f1b-4ccc-9012-283e819b2163",
   "metadata": {},
   "outputs": [],
   "source": []
  }
 ],
 "metadata": {
  "kernelspec": {
   "display_name": "Python 3 (ipykernel)",
   "language": "python",
   "name": "python3"
  },
  "language_info": {
   "codemirror_mode": {
    "name": "ipython",
    "version": 3
   },
   "file_extension": ".py",
   "mimetype": "text/x-python",
   "name": "python",
   "nbconvert_exporter": "python",
   "pygments_lexer": "ipython3",
   "version": "3.9.16"
  }
 },
 "nbformat": 4,
 "nbformat_minor": 5
}
