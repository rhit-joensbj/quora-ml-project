{
 "cells": [
  {
   "cell_type": "code",
   "execution_count": 1,
   "id": "d5fdcf63",
   "metadata": {},
   "outputs": [],
   "source": [
    "import pandas as pd"
   ]
  },
  {
   "cell_type": "code",
   "execution_count": 2,
   "id": "fc234694",
   "metadata": {},
   "outputs": [
    {
     "data": {
      "text/html": [
       "<div>\n",
       "<style scoped>\n",
       "    .dataframe tbody tr th:only-of-type {\n",
       "        vertical-align: middle;\n",
       "    }\n",
       "\n",
       "    .dataframe tbody tr th {\n",
       "        vertical-align: top;\n",
       "    }\n",
       "\n",
       "    .dataframe thead th {\n",
       "        text-align: right;\n",
       "    }\n",
       "</style>\n",
       "<table border=\"1\" class=\"dataframe\">\n",
       "  <thead>\n",
       "    <tr style=\"text-align: right;\">\n",
       "      <th></th>\n",
       "      <th>Unnamed: 0</th>\n",
       "      <th>qid</th>\n",
       "      <th>question_text</th>\n",
       "      <th>target</th>\n",
       "      <th>clean_text</th>\n",
       "    </tr>\n",
       "  </thead>\n",
       "  <tbody>\n",
       "    <tr>\n",
       "      <th>0</th>\n",
       "      <td>0</td>\n",
       "      <td>00002165364db923c7e6</td>\n",
       "      <td>How did Quebec nationalists see their province...</td>\n",
       "      <td>0</td>\n",
       "      <td>quebec nationalist see province nation</td>\n",
       "    </tr>\n",
       "    <tr>\n",
       "      <th>1</th>\n",
       "      <td>1</td>\n",
       "      <td>000032939017120e6e44</td>\n",
       "      <td>Do you have an adopted dog, how would you enco...</td>\n",
       "      <td>0</td>\n",
       "      <td>adopted dog would encourage people adopt shop</td>\n",
       "    </tr>\n",
       "    <tr>\n",
       "      <th>2</th>\n",
       "      <td>2</td>\n",
       "      <td>0000412ca6e4628ce2cf</td>\n",
       "      <td>Why does velocity affect time? Does velocity a...</td>\n",
       "      <td>0</td>\n",
       "      <td>velocity affect time velocity affect space geo...</td>\n",
       "    </tr>\n",
       "    <tr>\n",
       "      <th>3</th>\n",
       "      <td>3</td>\n",
       "      <td>000042bf85aa498cd78e</td>\n",
       "      <td>How did Otto von Guericke used the Magdeburg h...</td>\n",
       "      <td>0</td>\n",
       "      <td>otto von guericke used magdeburg hemisphere</td>\n",
       "    </tr>\n",
       "    <tr>\n",
       "      <th>4</th>\n",
       "      <td>4</td>\n",
       "      <td>0000455dfa3e01eae3af</td>\n",
       "      <td>Can I convert montra helicon D to a mountain b...</td>\n",
       "      <td>0</td>\n",
       "      <td>convert montra helicon mountain bike changing ...</td>\n",
       "    </tr>\n",
       "  </tbody>\n",
       "</table>\n",
       "</div>"
      ],
      "text/plain": [
       "   Unnamed: 0                   qid  \\\n",
       "0           0  00002165364db923c7e6   \n",
       "1           1  000032939017120e6e44   \n",
       "2           2  0000412ca6e4628ce2cf   \n",
       "3           3  000042bf85aa498cd78e   \n",
       "4           4  0000455dfa3e01eae3af   \n",
       "\n",
       "                                       question_text  target  \\\n",
       "0  How did Quebec nationalists see their province...       0   \n",
       "1  Do you have an adopted dog, how would you enco...       0   \n",
       "2  Why does velocity affect time? Does velocity a...       0   \n",
       "3  How did Otto von Guericke used the Magdeburg h...       0   \n",
       "4  Can I convert montra helicon D to a mountain b...       0   \n",
       "\n",
       "                                          clean_text  \n",
       "0            quebec nationalist see province nation   \n",
       "1     adopted dog would encourage people adopt shop   \n",
       "2  velocity affect time velocity affect space geo...  \n",
       "3       otto von guericke used magdeburg hemisphere   \n",
       "4  convert montra helicon mountain bike changing ...  "
      ]
     },
     "execution_count": 2,
     "metadata": {},
     "output_type": "execute_result"
    }
   ],
   "source": [
    "train_clean = pd.read_csv('./train_clean.csv')\n",
    "train_clean.head()"
   ]
  },
  {
   "cell_type": "code",
   "execution_count": 3,
   "id": "5c253856",
   "metadata": {},
   "outputs": [],
   "source": [
    "from sklearn.model_selection import train_test_split\n",
    "train_clean = train_clean[['clean_text','target']]\n",
    "train,test = train_test_split(train_clean,train_size=.8,stratify=train_clean['target'])"
   ]
  },
  {
   "cell_type": "code",
   "execution_count": 4,
   "id": "4c34dd0a",
   "metadata": {},
   "outputs": [
    {
     "name": "stdout",
     "output_type": "stream",
     "text": [
      "(980249, 2)\n",
      "(64648, 2)\n"
     ]
    }
   ],
   "source": [
    "train_sincere = train[train['target']==0]\n",
    "print(train_sincere.shape)\n",
    "train_insincere = train[train['target']==1]\n",
    "print(train_insincere.shape)"
   ]
  },
  {
   "cell_type": "code",
   "execution_count": 5,
   "id": "a50daf5a",
   "metadata": {},
   "outputs": [],
   "source": [
    "from sklearn.utils import resample\n",
    "train_upsample = resample(train_insincere,replace=True,n_samples = 980249, random_state = 42)\n",
    "train_upsample = pd.concat([train_sincere,train_upsample])"
   ]
  },
  {
   "cell_type": "code",
   "execution_count": 6,
   "id": "d80ab9f4",
   "metadata": {},
   "outputs": [],
   "source": [
    "train_downsample = resample(train_sincere,replace=False,n_samples = 64648, random_state = 42)\n",
    "train_downsample = pd.concat([train_insincere,train_downsample])"
   ]
  },
  {
   "cell_type": "code",
   "execution_count": 7,
   "id": "a41d978b",
   "metadata": {},
   "outputs": [],
   "source": [
    "X_train = train['clean_text']\n",
    "y_train = train['target']\n",
    "X_test = test['clean_text']\n",
    "y_test = test['target']\n",
    "X_upsample = train_upsample['clean_text']\n",
    "y_upsample = train_upsample['target']\n",
    "X_downsample = train_downsample['clean_text']\n",
    "y_downsample = train_downsample['target']"
   ]
  },
  {
   "cell_type": "code",
   "execution_count": 8,
   "id": "ff297396",
   "metadata": {},
   "outputs": [],
   "source": [
    "from sklearn.feature_extraction.text import TfidfVectorizer\n",
    "vectorizer = TfidfVectorizer(ngram_range=(1,2), min_df=3, max_df=0.9, \n",
    "                             sublinear_tf=True, smooth_idf=True,\n",
    "                             strip_accents='unicode', stop_words='english',\n",
    "                             analyzer='word')\n",
    "Z_train = vectorizer.fit_transform(X_train.astype('U'))\n",
    "Z_test = vectorizer.transform(X_test.astype('U'))"
   ]
  },
  {
   "cell_type": "code",
   "execution_count": 9,
   "id": "9e373f37",
   "metadata": {},
   "outputs": [
    {
     "data": {
      "text/plain": [
       "0.9518346253229975"
      ]
     },
     "execution_count": 9,
     "metadata": {},
     "output_type": "execute_result"
    }
   ],
   "source": [
    "from sklearn.svm import LinearSVC\n",
    "from sklearn.model_selection import cross_validate\n",
    "svm = LinearSVC()\n",
    "svm.fit(Z_train,y_train)\n",
    "svm.score(Z_test,y_test)"
   ]
  },
  {
   "cell_type": "code",
   "execution_count": 10,
   "id": "ab6d6f39",
   "metadata": {},
   "outputs": [
    {
     "name": "stdout",
     "output_type": "stream",
     "text": [
      "confusion matrix:  [[241210   3853]\n",
      " [  8729   7433]]\n",
      "precision:  0.6586035796562112\n",
      "recall:  0.45990595223363445\n",
      "f1:  0.5416059457883999\n"
     ]
    }
   ],
   "source": [
    "from sklearn.metrics import confusion_matrix\n",
    "confusion_train = confusion_matrix(y_test,svm.predict(Z_test))\n",
    "prec = confusion_train[1][1]/(confusion_train[1][1]+confusion_train[0][1])\n",
    "rec = confusion_train[1][1]/confusion_train[1].sum()\n",
    "f1 = 2/(1/prec+1/rec)\n",
    "print('confusion matrix: ',confusion_train)\n",
    "print('precision: ', prec)\n",
    "print('recall: ', rec)\n",
    "print('f1: ', f1)"
   ]
  },
  {
   "cell_type": "code",
   "execution_count": 11,
   "id": "848e70e2",
   "metadata": {},
   "outputs": [],
   "source": [
    "vectorizer = TfidfVectorizer(ngram_range=(1,2), min_df=3, max_df=0.9, \n",
    "                             sublinear_tf=True, smooth_idf=True,\n",
    "                             strip_accents='unicode', stop_words='english',\n",
    "                             analyzer='word')\n",
    "Z_train = vectorizer.fit_transform(X_upsample.astype('U'))\n",
    "Z_test = vectorizer.transform(X_test.astype('U'))"
   ]
  },
  {
   "cell_type": "code",
   "execution_count": 12,
   "id": "ce5f718d",
   "metadata": {},
   "outputs": [
    {
     "data": {
      "text/plain": [
       "0.9437190161737965"
      ]
     },
     "execution_count": 12,
     "metadata": {},
     "output_type": "execute_result"
    }
   ],
   "source": [
    "svm = LinearSVC()\n",
    "svm.fit(Z_train,y_upsample)\n",
    "svm.score(Z_test,y_test)"
   ]
  },
  {
   "cell_type": "code",
   "execution_count": 13,
   "id": "39afeeaf",
   "metadata": {},
   "outputs": [
    {
     "name": "stdout",
     "output_type": "stream",
     "text": [
      "confusion matrix:  [[238612   6451]\n",
      " [  8251   7911]]\n",
      "precision:  0.5508285754073249\n",
      "recall:  0.4894814998143794\n",
      "f1:  0.5183462193683659\n"
     ]
    }
   ],
   "source": [
    "confusion_upsample = confusion_matrix(y_test,svm.predict(Z_test))\n",
    "prec = confusion_upsample[1][1]/(confusion_upsample[1][1]+confusion_upsample[0][1])\n",
    "rec = confusion_upsample[1][1]/confusion_upsample[1].sum()\n",
    "f1 = 2/(1/prec+1/rec)\n",
    "print('confusion matrix: ',confusion_upsample)\n",
    "print('precision: ', prec)\n",
    "print('recall: ', rec)\n",
    "print('f1: ', f1)"
   ]
  },
  {
   "cell_type": "code",
   "execution_count": 14,
   "id": "e47271ae",
   "metadata": {},
   "outputs": [],
   "source": [
    "vectorizer = TfidfVectorizer(ngram_range=(1,2), min_df=3, max_df=0.9, \n",
    "                             sublinear_tf=True, smooth_idf=True,\n",
    "                             strip_accents='unicode', stop_words='english',\n",
    "                             analyzer='word')\n",
    "Z_train = vectorizer.fit_transform(X_downsample.astype('U'))\n",
    "Z_test = vectorizer.transform(X_test.astype('U'))"
   ]
  },
  {
   "cell_type": "code",
   "execution_count": 15,
   "id": "ca6c9840",
   "metadata": {},
   "outputs": [
    {
     "data": {
      "text/plain": [
       "0.8723935304813858"
      ]
     },
     "execution_count": 15,
     "metadata": {},
     "output_type": "execute_result"
    }
   ],
   "source": [
    "svm = LinearSVC()\n",
    "svm.fit(Z_train,y_downsample)\n",
    "svm.score(Z_test,y_test)"
   ]
  },
  {
   "cell_type": "code",
   "execution_count": 16,
   "id": "e947bb26",
   "metadata": {},
   "outputs": [
    {
     "name": "stdout",
     "output_type": "stream",
     "text": [
      "confusion matrix:  [[213731  31332]\n",
      " [  2002  14160]]\n",
      "precision:  0.311263518860459\n",
      "recall:  0.8761291919316916\n",
      "f1:  0.45933759366788857\n"
     ]
    }
   ],
   "source": [
    "confusion_downsample = confusion_matrix(y_test,svm.predict(Z_test))\n",
    "prec = confusion_downsample[1][1]/(confusion_downsample[1][1]+confusion_downsample[0][1])\n",
    "rec = confusion_downsample[1][1]/confusion_downsample[1].sum()\n",
    "f1 = 2/(1/prec+1/rec)\n",
    "print('confusion matrix: ',confusion_downsample)\n",
    "print('precision: ', prec)\n",
    "print('recall: ', rec)\n",
    "print('f1: ', f1)"
   ]
  },
  {
   "attachments": {},
   "cell_type": "markdown",
   "id": "60bca705",
   "metadata": {},
   "source": [
    "Forcing balancing via both up and down sampling seems to be reducing accuracy on the training set"
   ]
  },
  {
   "cell_type": "code",
   "execution_count": 17,
   "id": "2adeec8f",
   "metadata": {},
   "outputs": [],
   "source": [
    "vectorizer = TfidfVectorizer(ngram_range=(1,2), min_df=3, max_df=0.9, \n",
    "                             sublinear_tf=True, smooth_idf=True,\n",
    "                             strip_accents='unicode', stop_words='english',\n",
    "                             analyzer='word')\n",
    "Z_train = vectorizer.fit_transform(X_train.astype('U'))\n",
    "Z_test = vectorizer.transform(X_test.astype('U'))"
   ]
  },
  {
   "cell_type": "code",
   "execution_count": 18,
   "id": "f3864976",
   "metadata": {},
   "outputs": [
    {
     "data": {
      "text/plain": [
       "0.9206507799789454"
      ]
     },
     "execution_count": 18,
     "metadata": {},
     "output_type": "execute_result"
    }
   ],
   "source": [
    "svm = LinearSVC(class_weight='balanced')\n",
    "svm.fit(Z_train,y_train)\n",
    "svm.score(Z_test,y_test)"
   ]
  },
  {
   "cell_type": "code",
   "execution_count": 19,
   "id": "3ed135d4",
   "metadata": {},
   "outputs": [
    {
     "name": "stdout",
     "output_type": "stream",
     "text": [
      "confusion matrix:  [[228321  16742]\n",
      " [  3986  12176]]\n",
      "precision:  0.42105263157894735\n",
      "recall:  0.753372107412449\n",
      "f1:  0.5401952085181899\n"
     ]
    }
   ],
   "source": [
    "confusion_balanced = confusion_matrix(y_test,svm.predict(Z_test))\n",
    "prec = confusion_balanced[1][1]/(confusion_balanced[1][1]+confusion_balanced[0][1])\n",
    "rec = confusion_balanced[1][1]/confusion_balanced[1].sum()\n",
    "f1 = 2/(1/prec+1/rec)\n",
    "print('confusion matrix: ',confusion_balanced)\n",
    "print('precision: ', prec)\n",
    "print('recall: ', rec)\n",
    "print('f1: ', f1)"
   ]
  },
  {
   "attachments": {},
   "cell_type": "markdown",
   "id": "423e6c3f",
   "metadata": {},
   "source": [
    "The balanced parameter seems to lead to lower recall."
   ]
  }
 ],
 "metadata": {
  "kernelspec": {
   "display_name": "Python 3 (ipykernel)",
   "language": "python",
   "name": "python3"
  },
  "language_info": {
   "codemirror_mode": {
    "name": "ipython",
    "version": 3
   },
   "file_extension": ".py",
   "mimetype": "text/x-python",
   "name": "python",
   "nbconvert_exporter": "python",
   "pygments_lexer": "ipython3",
   "version": "3.10.9"
  }
 },
 "nbformat": 4,
 "nbformat_minor": 5
}
