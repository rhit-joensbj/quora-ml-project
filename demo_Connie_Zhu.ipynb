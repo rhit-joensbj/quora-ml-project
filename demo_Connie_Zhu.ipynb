{
  "nbformat": 4,
  "nbformat_minor": 0,
  "metadata": {
    "colab": {
      "provenance": [],
      "machine_shape": "hm",
      "gpuType": "T4"
    },
    "kernelspec": {
      "name": "python3",
      "display_name": "Python 3"
    },
    "language_info": {
      "name": "python"
    },
    "accelerator": "GPU",
    "gpuClass": "standard"
  },
  "cells": [
    {
      "cell_type": "markdown",
      "source": [
        "# **Embedding**"
      ],
      "metadata": {
        "id": "5moxtb0WfeJg"
      }
    },
    {
      "cell_type": "code",
      "source": [
        "from google.colab import drive\n",
        "drive.mount('/content/drive')"
      ],
      "metadata": {
        "colab": {
          "base_uri": "https://localhost:8080/"
        },
        "id": "reygEMyUaDCc",
        "outputId": "bfa1b116-b052-4e42-da47-63c6fe83a9a8"
      },
      "execution_count": null,
      "outputs": [
        {
          "output_type": "stream",
          "name": "stdout",
          "text": [
            "Drive already mounted at /content/drive; to attempt to forcibly remount, call drive.mount(\"/content/drive\", force_remount=True).\n"
          ]
        }
      ]
    },
    {
      "cell_type": "code",
      "source": [
        "import os\n",
        "import time\n",
        "import numpy as np \n",
        "import pandas as pd \n",
        "from tqdm import tqdm\n",
        "import math"
      ],
      "metadata": {
        "id": "2qkt3V0df2-X"
      },
      "execution_count": null,
      "outputs": []
    },
    {
      "cell_type": "code",
      "execution_count": null,
      "metadata": {
        "colab": {
          "base_uri": "https://localhost:8080/"
        },
        "id": "Y2BwOCaAfK-j",
        "outputId": "29d3fc3c-7710-4a15-db7b-0292dc06afa9"
      },
      "outputs": [
        {
          "output_type": "stream",
          "name": "stderr",
          "text": [
            "1917495it [01:48, 17732.22it/s]"
          ]
        },
        {
          "output_type": "stream",
          "name": "stdout",
          "text": [
            "Found 1917495 word vectors.\n"
          ]
        },
        {
          "output_type": "stream",
          "name": "stderr",
          "text": [
            "\n"
          ]
        }
      ],
      "source": [
        "# embdedding setup\n",
        "# Source https://blog.keras.io/using-pre-trained-word-embeddings-in-a-keras-model.html\n",
        "embeddings_index = {}\n",
        "EMBEDDING_FILE = '/content/drive/MyDrive/ML Project - Quora/Data/glove.42B.300d/glove.42B.300d.txt' # define embedding file path\n",
        "\n",
        "with open(EMBEDDING_FILE, 'r', encoding=\"utf-8\") as f:\n",
        "  for line in tqdm(f):\n",
        "      values = line.split(\" \")\n",
        "      word = values[0]\n",
        "      coefs = np.asarray(values[1:], dtype='float32')\n",
        "      embeddings_index[word] = coefs\n",
        "  f.close()\n",
        "\n",
        "print('Found %s word vectors.' % len(embeddings_index))"
      ]
    },
    {
      "cell_type": "code",
      "source": [
        "from scipy import spatial\n",
        "def find_similar_word(emmbedes):\n",
        "  nearest = sorted(embeddings_index.keys(), key=lambda word: spatial.distance.euclidean(embeddings_index[word], emmbedes))\n",
        "  return nearest"
      ],
      "metadata": {
        "id": "8u4m2yiVhDmr"
      },
      "execution_count": null,
      "outputs": []
    },
    {
      "cell_type": "code",
      "source": [
        "find_similar_word(embeddings_index['trump'])[0:10]"
      ],
      "metadata": {
        "colab": {
          "base_uri": "https://localhost:8080/"
        },
        "id": "fmeJA0C2f0DX",
        "outputId": "2a22113e-0073-491b-cbd8-7c8c2bfba855"
      },
      "execution_count": null,
      "outputs": [
        {
          "output_type": "execute_result",
          "data": {
            "text/plain": [
              "['trump',\n",
              " 'trumps',\n",
              " 'ivanka',\n",
              " 'donald',\n",
              " 'quitbrad',\n",
              " 'dropsrules',\n",
              " 'payexercisedmr',\n",
              " \"o'donnell\",\n",
              " '1bialosky',\n",
              " '6bialosky']"
            ]
          },
          "metadata": {},
          "execution_count": 12
        }
      ]
    },
    {
      "cell_type": "markdown",
      "source": [
        "# **Model Prediction**"
      ],
      "metadata": {
        "id": "Jbta54SpZ-u4"
      }
    },
    {
      "cell_type": "code",
      "source": [
        "def text_to_array(text):\n",
        "    empyt_emb = np.zeros(300)\n",
        "    text = text[:-1].split()[:30]\n",
        "    embeds = [embeddings_index.get(x, empyt_emb) for x in text]\n",
        "    embeds+= [empyt_emb] * (30 - len(embeds))\n",
        "    return np.array(embeds)"
      ],
      "metadata": {
        "id": "FbmsaZZkaIZ5"
      },
      "execution_count": null,
      "outputs": []
    },
    {
      "cell_type": "code",
      "source": [
        "from tensorflow.keras.saving import load_model\n",
        "model = load_model('/content/drive/MyDrive/ML Project - Quora/Data/LSTM.h5')"
      ],
      "metadata": {
        "id": "GgR4h8YFg8Jg"
      },
      "execution_count": null,
      "outputs": []
    },
    {
      "cell_type": "code",
      "source": [],
      "metadata": {
        "id": "bnSeVg6sbVwz"
      },
      "execution_count": null,
      "outputs": []
    },
    {
      "cell_type": "code",
      "source": [
        "test_text = np.array([text_to_array(\"Has the United States become the largest dictatorship in the world?\")]) "
      ],
      "metadata": {
        "id": "z9LfypbDaKLX"
      },
      "execution_count": null,
      "outputs": []
    },
    {
      "cell_type": "markdown",
      "source": [
        "Sincere:\n",
        "\n",
        "How difficult is it to find a good instructor to take a class near you?\n",
        "\n",
        "Should I leave my friends and find new ones?\n",
        "\n",
        "Why India Act 1935 was so special?\n",
        "\n",
        "---\n",
        "\n",
        "insincere:\n",
        "\n",
        "Has the United States become the largest dictatorship in the world?\n",
        "\n",
        "Which babies are more sweeter to their parents? Dark skin babies or light \n",
        "\n",
        "skin babies?\n",
        "\n",
        "Why are north Indians always angry and rude?\n",
        "\n",
        "Why do Chinese and Indian (in particular) best and brightest students still flock to American colleges; don't they have great(er) colleges back home?"
      ],
      "metadata": {
        "id": "LbUj59evcynW"
      }
    },
    {
      "cell_type": "code",
      "source": [
        "all_predict = model.predict(test_text).flatten()\n",
        "y_te = (np.array(all_predict) > 0.2).astype(np.int)"
      ],
      "metadata": {
        "colab": {
          "base_uri": "https://localhost:8080/"
        },
        "id": "sUaiACZgbXTT",
        "outputId": "b980cb28-274a-4169-b482-8c47a25d03ec"
      },
      "execution_count": null,
      "outputs": [
        {
          "output_type": "stream",
          "name": "stdout",
          "text": [
            "1/1 [==============================] - 0s 20ms/step\n"
          ]
        },
        {
          "output_type": "stream",
          "name": "stderr",
          "text": [
            "<ipython-input-17-e3095d3cf5d3>:2: DeprecationWarning: `np.int` is a deprecated alias for the builtin `int`. To silence this warning, use `int` by itself. Doing this will not modify any behavior and is safe. When replacing `np.int`, you may wish to use e.g. `np.int64` or `np.int32` to specify the precision. If you wish to review your current use, check the release note link for additional information.\n",
            "Deprecated in NumPy 1.20; for more details and guidance: https://numpy.org/devdocs/release/1.20.0-notes.html#deprecations\n",
            "  y_te = (np.array(all_predict) > 0.2).astype(np.int)\n"
          ]
        }
      ]
    },
    {
      "cell_type": "code",
      "source": [
        "y_te"
      ],
      "metadata": {
        "colab": {
          "base_uri": "https://localhost:8080/"
        },
        "id": "PhkaEvblbX45",
        "outputId": "69cdb7f2-d33c-4022-f405-48b60c52f875"
      },
      "execution_count": null,
      "outputs": [
        {
          "output_type": "execute_result",
          "data": {
            "text/plain": [
              "array([1])"
            ]
          },
          "metadata": {},
          "execution_count": 18
        }
      ]
    },
    {
      "cell_type": "code",
      "source": [
        "all_predict"
      ],
      "metadata": {
        "colab": {
          "base_uri": "https://localhost:8080/"
        },
        "id": "_aHlblTAcgyh",
        "outputId": "79ba1614-fd63-4f65-b27a-6b74291ba02d"
      },
      "execution_count": null,
      "outputs": [
        {
          "output_type": "execute_result",
          "data": {
            "text/plain": [
              "array([0.25974667], dtype=float32)"
            ]
          },
          "metadata": {},
          "execution_count": 19
        }
      ]
    },
    {
      "cell_type": "code",
      "source": [],
      "metadata": {
        "id": "xMAvafo6bXjW"
      },
      "execution_count": null,
      "outputs": []
    }
  ]
}